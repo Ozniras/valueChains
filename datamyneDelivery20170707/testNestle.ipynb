{
 "cells": [
  {
   "cell_type": "code",
   "execution_count": 1,
   "metadata": {
    "collapsed": true
   },
   "outputs": [],
   "source": [
    "import pandas as pd\n",
    "import psycopg2\n",
    "from psycopg2 import sql\n",
    "#!ln -s /var/run/postgresql/.s.PGSQL.5432 /tmp/.s.PGSQL.5432"
   ]
  },
  {
   "cell_type": "code",
   "execution_count": 2,
   "metadata": {
    "collapsed": true
   },
   "outputs": [],
   "source": [
    "conn = psycopg2.connect(database = \"datamyne20170707\", user = \"ram22\")\n",
    "cur = conn.cursor()"
   ]
  },
  {
   "cell_type": "code",
   "execution_count": 37,
   "metadata": {
    "collapsed": true
   },
   "outputs": [],
   "source": [
    "# nike nestle unilever\n",
    "cur.execute(\"\"\"\n",
    "drop table if exists unilever;\n",
    "create table unilever as\n",
    "select shipper_unified, shipper_declared, consignee_unified, consignee_declared, shipper_d_b_business_name, consignee_d_b_business_name, notify\n",
    "from billoflading \n",
    "where shipper_d_b_business_name ~* '.*unilever.*' or consignee_d_b_business_name ~* '.*unilever.*' \n",
    "or shipper_declared ~* '.*unilever.*' or consignee_declared ~* '.*unilever.*'\n",
    "or shipper_unified ~* '.*unilever.*' or consignee_unified ~* '.*unilever.*'\n",
    "or notify  ~* '.*unilever.*';\n",
    "\n",
    "COPY unilever to '/home/ram22/dataDrive/dataProjects/postgresql/tempOutput/unilever.csv' WITH CSV HEADER;\n",
    "\"\"\")    "
   ]
  },
  {
   "cell_type": "code",
   "execution_count": 24,
   "metadata": {
    "collapsed": true
   },
   "outputs": [],
   "source": [
    "cur.execute(\"\"\"\n",
    "drop table if exists unileverDBonly;\n",
    "create table unileverDBonly as\n",
    "select *\n",
    "from billoflading \n",
    "where consignee_d_b_business_name ~* '.*unilever.*';\n",
    "\n",
    "COPY unileverDBonly to '/home/ram22/dataDrive/dataProjects/postgresql/tempOutput/unileverDBonly.csv' WITH CSV HEADER;\n",
    "\"\"\")"
   ]
  },
  {
   "cell_type": "code",
   "execution_count": 38,
   "metadata": {
    "collapsed": true
   },
   "outputs": [],
   "source": [
    "conn.commit()\n",
    "conn.close()"
   ]
  },
  {
   "cell_type": "code",
   "execution_count": 39,
   "metadata": {
    "collapsed": true
   },
   "outputs": [],
   "source": [
    "cia = pd.read_csv('unilever.csv')"
   ]
  },
  {
   "cell_type": "code",
   "execution_count": 44,
   "metadata": {},
   "outputs": [
    {
     "name": "stdout",
     "output_type": "stream",
     "text": [
      "NaN                                                     1277\n",
      "Conopco, Inc.                                            448\n",
      "Hwang, Teen                                              198\n",
      "Puerto Rico Supplies Group Inc.                          173\n",
      "Unilever Hpc-USA                                          96\n",
      "Unilever Bestfoods North America                          81\n",
      "Royal Estates Tea Company                                 63\n",
      "Inter American Cosmetics Inc                              48\n",
      "Unilever Capital Corporation                              38\n",
      "Walton & Post, Inc.                                       38\n",
      "Unilever Hpc                                              36\n",
      "CTT Tools Inc                                             34\n",
      "Nuts and Spice Co.                                        26\n",
      "Unilever Manufacturing (us), Inc.                         21\n",
      "Del Valle Brands , Inc.                                   20\n",
      "Unilever United States, Inc.                              20\n",
      "Amtrade Inc.                                              17\n",
      "Precon International Inc                                  15\n",
      "Paskesz Candy Co., Inc.                                   14\n",
      "Unilever Hpc USA                                          14\n",
      "White Toque, Inc                                          11\n",
      "Source Atlantique, Incorporated                           11\n",
      "Winner International Inc.                                 11\n",
      "Unilever                                                  10\n",
      "C. Kenneth Imports, Inc.                                   9\n",
      "Arko Foods International, Inc.                             8\n",
      "Deep Foods, Inc.                                           6\n",
      "Leviton Manufacturing Co., Inc.                            6\n",
      "Optima Foods, Inc.                                         6\n",
      "Summit Import Corporation                                  6\n",
      "                                                        ... \n",
      "Winneram Marketing Inc                                     5\n",
      "Mehadrin Dairy Corporation                                 4\n",
      "Q Trade International Corp.                                4\n",
      "Mediterranean Gyros Products, Inc.                         4\n",
      "Riviana Foods Inc.                                         4\n",
      "Khady Beauty                                               3\n",
      "Phil-AM Merchandising Inc.                                 3\n",
      "Inolex Chemical Company                                    3\n",
      "Inter-American Division Publishing Association, Inc.       2\n",
      "Nicera America Corp                                        2\n",
      "Dow Corning Corporation                                    2\n",
      "Zeenat, Inc                                                2\n",
      "Eastimpex                                                  2\n",
      "D.B.a Rex Discount Inc.                                    2\n",
      "Unilever Credit Union                                      2\n",
      "Oriental Food Distributor Inc                              2\n",
      "Milliken & Company                                         2\n",
      "Deep Foods Inc                                             1\n",
      "Peter Cremer North America LP                              1\n",
      "Soofer Co., Inc.                                           1\n",
      "Protameen Chemicals Inc.                                   1\n",
      "Schreiber Foods International Inc                          1\n",
      "TIGI LINEA INC                                             1\n",
      "Abitec Corporation                                         1\n",
      "Vintage Food Corporation                                   1\n",
      "World Finer Foods, LLC                                     1\n",
      "Greek Farms International, LLC                             1\n",
      "CHETAK NEW YORK LLC                                        1\n",
      "World Wide Metric Inc                                      1\n",
      "John's Import Foods Inc.                                   1\n",
      "Name: consignee_d_b_business_name, dtype: int64\n"
     ]
    },
    {
     "data": {
      "text/plain": [
       "(2842, 7)"
      ]
     },
     "execution_count": 44,
     "metadata": {},
     "output_type": "execute_result"
    }
   ],
   "source": [
    "print(cia.consignee_d_b_business_name.value_counts(dropna=False))\n",
    "cia.shape"
   ]
  },
  {
   "cell_type": "code",
   "execution_count": 8,
   "metadata": {},
   "outputs": [
    {
     "data": {
      "text/plain": [
       "3054"
      ]
     },
     "execution_count": 8,
     "metadata": {},
     "output_type": "execute_result"
    }
   ],
   "source": [
    "1983+970+92+5+4"
   ]
  },
  {
   "cell_type": "code",
   "execution_count": 9,
   "metadata": {},
   "outputs": [
    {
     "data": {
      "text/plain": [
       "PUMA NORTH AMERICA INC                 2394\n",
       "PUMA NORTH AMERICA, INC.                209\n",
       "PUMA NORTH AMERICA                      203\n",
       "COBRA GOLF INC DBA COBRA PUMA GOLF      124\n",
       "PUMA NORTH AMERICA INC.                  77\n",
       "PUMA KIDS APPAREL LLC                    67\n",
       "PUMA NORTH AMERICA, INC                  23\n",
       "PUMA  NORTH AMERICA                      18\n",
       "PUMA NORTH AMERICA.                      17\n",
       "PUMA NORTH AMERICA,                      15\n",
       "PUMA KIDS APPAREL                        14\n",
       "PUMA KIDS APPAREL N A LLC                 8\n",
       "COBRA GOLF INC DBA COBRA PUMA GOLFU       6\n",
       "PUMA INTERNATIONAL TRADING GMBH           4\n",
       "LAZYONE, INC,                             3\n",
       "PUMA KIDS APPAREL NA LLC                  3\n",
       "LAZYONE INC                               3\n",
       "CRICKET MERCHANT LLC                      2\n",
       "COBRA GOLF INC DBA COBRA PUMA             2\n",
       "PUMA  NORTH  AMERICA                      1\n",
       "COBRA PUMA GOLF                           1\n",
       "PUMA NORTH AMERACA                        1\n",
       "LAZY ONE INC                              1\n",
       "M S LAZYONE INC                           1\n",
       "Name: consignee_declared, dtype: int64"
      ]
     },
     "execution_count": 9,
     "metadata": {},
     "output_type": "execute_result"
    }
   ],
   "source": [
    "cia.consignee_declared.value_counts()"
   ]
  },
  {
   "cell_type": "code",
   "execution_count": 10,
   "metadata": {},
   "outputs": [
    {
     "data": {
      "text/plain": [
       "3054"
      ]
     },
     "execution_count": 10,
     "metadata": {},
     "output_type": "execute_result"
    }
   ],
   "source": [
    "2394+209+203+77+67+23+18+17+15+14+8+4+3+1+1"
   ]
  },
  {
   "cell_type": "code",
   "execution_count": 12,
   "metadata": {},
   "outputs": [
    {
     "data": {
      "text/plain": [
       "Puma North America, Inc.        1869\n",
       "NaN                             1318\n",
       "Richmond Apparel Group, Inc.       7\n",
       "Cricket Merchant                   2\n",
       "Cobra Golf Incorporated            1\n",
       "Name: consignee_d_b_business_name, dtype: int64"
      ]
     },
     "execution_count": 12,
     "metadata": {},
     "output_type": "execute_result"
    }
   ],
   "source": [
    "cia.consignee_d_b_business_name.value_counts(dropna=False)"
   ]
  },
  {
   "cell_type": "code",
   "execution_count": 13,
   "metadata": {},
   "outputs": [
    {
     "data": {
      "text/plain": [
       "3187"
      ]
     },
     "execution_count": 13,
     "metadata": {},
     "output_type": "execute_result"
    }
   ],
   "source": [
    "1869+1318"
   ]
  },
  {
   "cell_type": "code",
   "execution_count": 14,
   "metadata": {},
   "outputs": [
    {
     "data": {
      "text/plain": [
       "PUMA HOSIERY MILL        6\n",
       "M S PUMA HOSIERY MILL    1\n",
       "Name: shipper_declared, dtype: int64"
      ]
     },
     "execution_count": 14,
     "metadata": {},
     "output_type": "execute_result"
    }
   ],
   "source": [
    "cia.shipper_declared[puma.consignee_d_b_business_name=='Richmond Apparel Group, Inc.'].value_counts(dropna=False)"
   ]
  },
  {
   "cell_type": "code",
   "execution_count": 15,
   "metadata": {},
   "outputs": [
    {
     "data": {
      "text/plain": [
       "PUMA HOSIERY MILL (IN)    7\n",
       "Name: shipper_unified, dtype: int64"
      ]
     },
     "execution_count": 15,
     "metadata": {},
     "output_type": "execute_result"
    }
   ],
   "source": [
    "cia.shipper_unified[puma.consignee_d_b_business_name=='Richmond Apparel Group, Inc.'].value_counts(dropna=False)"
   ]
  },
  {
   "cell_type": "code",
   "execution_count": 16,
   "metadata": {},
   "outputs": [
    {
     "data": {
      "text/plain": [
       "PUMA SPORTS INDIA PVT LTD    2\n",
       "Name: shipper_declared, dtype: int64"
      ]
     },
     "execution_count": 16,
     "metadata": {},
     "output_type": "execute_result"
    }
   ],
   "source": [
    "cia.shipper_declared[cia.consignee_d_b_business_name=='Cricket Merchant'].value_counts(dropna=False)"
   ]
  },
  {
   "cell_type": "code",
   "execution_count": null,
   "metadata": {
    "collapsed": true
   },
   "outputs": [],
   "source": []
  },
  {
   "cell_type": "code",
   "execution_count": null,
   "metadata": {
    "collapsed": true
   },
   "outputs": [],
   "source": []
  },
  {
   "cell_type": "code",
   "execution_count": 26,
   "metadata": {
    "collapsed": true
   },
   "outputs": [],
   "source": [
    "ciaDBonly = pd.read_csv('unileverDBonly.csv')"
   ]
  },
  {
   "cell_type": "code",
   "execution_count": 27,
   "metadata": {},
   "outputs": [
    {
     "data": {
      "text/plain": [
       "Unilever Hpc-USA                     96\n",
       "Unilever Bestfoods North America     81\n",
       "Unilever Capital Corporation         38\n",
       "Unilever Hpc                         36\n",
       "Unilever Manufacturing (us), Inc.    21\n",
       "Unilever United States, Inc.         20\n",
       "Unilever Hpc USA                     14\n",
       "Unilever                             10\n",
       "Unilever Credit Union                 2\n",
       "Name: consignee_d_b_business_name, dtype: int64"
      ]
     },
     "execution_count": 27,
     "metadata": {},
     "output_type": "execute_result"
    }
   ],
   "source": [
    "#name\n",
    "ciaDBonly.consignee_d_b_business_name.value_counts(dropna=False)"
   ]
  },
  {
   "cell_type": "code",
   "execution_count": 10,
   "metadata": {},
   "outputs": [
    {
     "name": "stdout",
     "output_type": "stream",
     "text": [
      "Memphis      27\n",
      "Beaverton    19\n",
      "Name: consignee_d_b_city_name, dtype: int64\n",
      "MEMPHIS, TN      27\n",
      "BEAVERTON, OR    19\n",
      "Name: consignee_declared_city, dtype: int64\n",
      "MEMPHIS      27\n",
      "BEAVERTON    19\n",
      "Name: consignee_declared_zip_code_city, dtype: int64\n",
      "5912    27\n",
      "785     19\n",
      "Name: consignee_d_b_db_city_code, dtype: int64\n",
      "381187521    27\n",
      "970050979    19\n",
      "Name: consignee_d_b_postal_code, dtype: int64\n"
     ]
    }
   ],
   "source": [
    "#cityName\n",
    "\n",
    "# declared zip code is either read incorrectly or useless\n",
    "print(ciaDBonly.consignee_d_b_city_name.value_counts(dropna=False))\n",
    "print(ciaDBonly.consignee_declared_city.value_counts(dropna=False))\n",
    "print(ciaDBonly.consignee_declared_zip_code_city.value_counts(dropna=False))\n",
    "print(ciaDBonly.consignee_d_b_db_city_code.value_counts(dropna=False))\n",
    "\n",
    "print(ciaDBonly.consignee_d_b_postal_code.value_counts(dropna=False)) # 8 digits?"
   ]
  },
  {
   "cell_type": "code",
   "execution_count": 28,
   "metadata": {},
   "outputs": [
    {
     "name": "stdout",
     "output_type": "stream",
     "text": [
      "0       122\n",
      "2007     96\n",
      "1977     38\n",
      "2012     36\n",
      "2010     19\n",
      "2013      5\n",
      "1948      2\n",
      "Name: consignee_d_b_year_started, dtype: int64\n"
     ]
    }
   ],
   "source": [
    "#dateEstablished\n",
    "print(ciaDBonly.consignee_d_b_year_started.value_counts(dropna=False))"
   ]
  },
  {
   "cell_type": "code",
   "execution_count": 12,
   "metadata": {},
   "outputs": [
    {
     "name": "stdout",
     "output_type": "stream",
     "text": [
      "35.037585    27\n",
      "45.548616    16\n",
      "45.496289     2\n",
      "45.520130     1\n",
      "Name: consignee_declared_zip_code_latitude, dtype: int64\n",
      "35.020378    27\n",
      "45.507648    19\n",
      "Name: consignee_d_b_latitude, dtype: int64\n",
      "-89.930187     27\n",
      "-123.114725    16\n",
      "-122.800146     2\n",
      "-122.860376     1\n",
      "Name: consignee_declared_zip_code_longitude, dtype: int64\n",
      "-89.892406     27\n",
      "-122.826912    19\n",
      "Name: consignee_d_b_longitude, dtype: int64\n"
     ]
    }
   ],
   "source": [
    "#latitude, longitude\n",
    "print(ciaDBonly.consignee_declared_zip_code_latitude.value_counts(dropna=False))\n",
    "print(ciaDBonly.consignee_d_b_latitude.value_counts(dropna=False))\n",
    "print(ciaDBonly.consignee_declared_zip_code_longitude.value_counts(dropna=False))\n",
    "print(ciaDBonly.consignee_d_b_longitude.value_counts(dropna=False))"
   ]
  },
  {
   "cell_type": "code",
   "execution_count": 13,
   "metadata": {},
   "outputs": [
    {
     "data": {
      "text/plain": [
       "NOT AVAILABLE    27\n",
       "CORPORATION      19\n",
       "Name: consignee_d_b_legal_status_name, dtype: int64"
      ]
     },
     "execution_count": 13,
     "metadata": {},
     "output_type": "execute_result"
    }
   ],
   "source": [
    "#ownership\n",
    "ciaDBonly.consignee_d_b_legal_status_name.value_counts(dropna=False)"
   ]
  },
  {
   "cell_type": "code",
   "execution_count": 14,
   "metadata": {},
   "outputs": [
    {
     "name": "stdout",
     "output_type": "stream",
     "text": [
      "316210    27\n",
      "424340    19\n",
      "Name: consignee_d_b_primary_naics_1_1_code, dtype: int64\n",
      "Footwear Manufacturing           27\n",
      "Footwear Merchant Wholesalers    19\n",
      "Name: consignee_d_b_primary_naics_1_1_description, dtype: int64\n"
     ]
    }
   ],
   "source": [
    "#primaryNAICS, primaryNAICSDescription\n",
    "print(ciaDBonly.consignee_d_b_primary_naics_1_1_code.value_counts())\n",
    "print(ciaDBonly.consignee_d_b_primary_naics_1_1_description.value_counts())"
   ]
  },
  {
   "cell_type": "code",
   "execution_count": 29,
   "metadata": {},
   "outputs": [
    {
     "data": {
      "text/plain": [
       "0.0          177\n",
       "4070124.0     96\n",
       "579342.0      38\n",
       "405000.0       5\n",
       "1027956.0      2\n",
       "Name: consignee_d_b_sales_volume_us_dollars, dtype: int64"
      ]
     },
     "execution_count": 29,
     "metadata": {},
     "output_type": "execute_result"
    }
   ],
   "source": [
    "#salesVolume\n",
    "ciaDBonly.consignee_d_b_sales_volume_us_dollars.value_counts()"
   ]
  },
  {
   "cell_type": "code",
   "execution_count": 30,
   "metadata": {},
   "outputs": [
    {
     "data": {
      "text/plain": [
       "0     141\n",
       "10    101\n",
       "1      38\n",
       "2      36\n",
       "8       2\n",
       "Name: consignee_d_b_employees_total, dtype: int64"
      ]
     },
     "execution_count": 30,
     "metadata": {},
     "output_type": "execute_result"
    }
   ],
   "source": [
    "#sizeOfOrganization\n",
    "ciaDBonly.consignee_d_b_employees_total.value_counts()"
   ]
  },
  {
   "cell_type": "code",
   "execution_count": 43,
   "metadata": {},
   "outputs": [
    {
     "name": "stdout",
     "output_type": "stream",
     "text": [
      "MASSACHUSETTS, MA    1869\n",
      "Name: consignee_declared_state, dtype: int64\n",
      "MA    1869\n",
      "Name: consignee_declared_state_abb, dtype: int64\n",
      "MA    539\n",
      "Name: consignee_declared_zip_code_state, dtype: int64\n",
      "Massachusetts    1869\n",
      "Name: consignee_d_b_state_province_name, dtype: int64\n",
      "41    1869\n",
      "Name: consignee_d_b_db_state_code, dtype: int64\n"
     ]
    }
   ],
   "source": [
    "#stateProvinceName\n",
    "print(ciaDBonly.consignee_declared_state.value_counts())\n",
    "print(ciaDBonly.consignee_declared_state_abb.value_counts())\n",
    "print(ciaDBonly.consignee_declared_zip_code_state.value_counts())\n",
    "print(ciaDBonly.consignee_d_b_state_province_name.value_counts())\n",
    "print(ciaDBonly.consignee_d_b_db_state_code.value_counts())"
   ]
  },
  {
   "cell_type": "code",
   "execution_count": 44,
   "metadata": {},
   "outputs": [
    {
     "name": "stdout",
     "output_type": "stream",
     "text": [
      "10 Lyberty Way    1869\n",
      "Name: consignee_d_b_street_address, dtype: int64\n",
      "Series([], Name: consignee_d_b_street_address_2, dtype: int64)\n"
     ]
    }
   ],
   "source": [
    "#streetAddress\n",
    "print(ciaDBonly.consignee_d_b_street_address.value_counts())\n",
    "print(ciaDBonly.consignee_d_b_street_address_2.value_counts())"
   ]
  },
  {
   "cell_type": "code",
   "execution_count": 47,
   "metadata": {},
   "outputs": [
    {
     "data": {
      "text/plain": [
       "1486.1199999999978"
      ]
     },
     "execution_count": 47,
     "metadata": {},
     "output_type": "execute_result"
    }
   ],
   "source": [
    "#totalContainers\n",
    "ciaDBonly.container_quantity = pd.to_numeric(ciaDBonly.container_quantity)\n",
    "ciaDBonly.container_quantity.sum()"
   ]
  },
  {
   "cell_type": "code",
   "execution_count": 48,
   "metadata": {},
   "outputs": [
    {
     "data": {
      "text/plain": [
       "2820.5000000000005"
      ]
     },
     "execution_count": 48,
     "metadata": {},
     "output_type": "execute_result"
    }
   ],
   "source": [
    "#totalTEUS\n",
    "ciaDBonly.calc_teus = pd.to_numeric(ciDBonly.calc_teus)\n",
    "ciaDBonly.calc_teus.sum()"
   ]
  },
  {
   "cell_type": "code",
   "execution_count": 49,
   "metadata": {},
   "outputs": [
    {
     "data": {
      "text/plain": [
       "168613644.61999926"
      ]
     },
     "execution_count": 49,
     "metadata": {},
     "output_type": "execute_result"
    }
   ],
   "source": [
    "#inputVolume\n",
    "#totalEstimatedTradeValue is the same as we have no exports\n",
    "#\n",
    "ciaDBonly.calc_value_usd = pd.to_numeric(ciaDBonly.calc_value_usd)\n",
    "ciaDBonly.calc_value_usd.sum()"
   ]
  },
  {
   "cell_type": "code",
   "execution_count": 50,
   "metadata": {},
   "outputs": [
    {
     "data": {
      "text/plain": [
       "INDONESIA      689\n",
       "CHINA          372\n",
       "CAMBODIA       324\n",
       "VIETNAM        155\n",
       "BANGLADESH      77\n",
       "EL SALVADOR     58\n",
       "MALAYSIA        48\n",
       "PHILIPPINES     42\n",
       "PAKISTAN        36\n",
       "TAIWAN          22\n",
       "MEXICO          19\n",
       "INDIA            7\n",
       "HONDURAS         4\n",
       "MACAU            4\n",
       "JORDAN           3\n",
       "TURKEY           3\n",
       "SINGAPORE        3\n",
       "HONG KONG        2\n",
       "SLOVAKIA         1\n",
       "Name: country_of_origin, dtype: int64"
      ]
     },
     "execution_count": 50,
     "metadata": {},
     "output_type": "execute_result"
    }
   ],
   "source": [
    "#topCountriesTradedWith: only imports\n",
    "ciaDBonly.country_of_origin.value_counts()"
   ]
  },
  {
   "cell_type": "code",
   "execution_count": 53,
   "metadata": {},
   "outputs": [
    {
     "name": "stdout",
     "output_type": "stream",
     "text": [
      "PT POU CHEN INDONESIA                  372\n",
      "PT HORN MING INDONESIA                 233\n",
      "DAMCO CAMBODIA LTD                     122\n",
      "MAERSK VIETNAM LTD ON BEHALF OF         92\n",
      "DAMCO (CAMBODIA) LTD ON BEHALF  OF      69\n",
      "BUDDIES MACAO COMMERCIAL OFFSHORE       51\n",
      "DAMCO (CAMBODIA) LTD ON BEHALF  O       51\n",
      "HEADWAY CAPS INTERNATIONAL CO INC       44\n",
      "BEAUTIFUL SPRING FOOTWEAR CO.,LTD       43\n",
      "PT .BUILDYET INDONESIA                  35\n",
      "TSG INTERNATIONAL LIMITED               34\n",
      "KEENWAY INDUSTRIES SDN BHD              33\n",
      "DIAMOND GROUP INTERNATIONAL LTD         32\n",
      "KARNAPHULI SHOES INDS. LTD.             27\n",
      "HUAXUN LOGISTICS SHENZHEN COMPANY L     27\n",
      "BUDDIES (MACAO COMMERCIAL OFFSHORE)     26\n",
      "CONFECCIONES DEL VALLE SA DE            24\n",
      "DAMCO INTL BV C/O MAERSK VIETNAM LT     22\n",
      "PUTIAN BAIHO FOOTWEAR COMPANY LIMIT     21\n",
      "REGINA MIRACLE INTERNATIONAL (GROUP     19\n",
      "BIHQ PTE LTD                            18\n",
      "ALI TRADING CO. (PVT.) LTD.,            18\n",
      "DA SHENG (BVI) INTL HOLDING LIMITED     17\n",
      "GOODDALE LTD                            16\n",
      "AWAN SPORTS INDUSTRIES (PVT) LTD.,      14\n",
      "SQUARE FASHIONS LTD.                    14\n",
      "HEADS UP INTERNATIONAL CORPORATION      13\n",
      "SUMMITOP (H.K.) INDUSTRIAL CO., LTD     13\n",
      "JINNAT KNITWEARS LTD.                   11\n",
      "BALL PLANET INDUSTRIAL LIMITED          11\n",
      "                                      ... \n",
      "BRANDON TRADING (SHANGHAI) LTD           1\n",
      "PHILLA INDUSTRIES INC.                   1\n",
      "JINNAT KNITWEARS LIMITED                 1\n",
      "GODEN GOLF LIMITED                       1\n",
      "DOMEX (VN) CO., LTD                      1\n",
      "INDUSTRIAS MANUFACTURERAS MYR S.A.       1\n",
      "RIALTO S.R.O.                            1\n",
      "WING FENG HUNG YIP FASHION LIMITED       1\n",
      "CONFECCIONES DEL                         1\n",
      "DA SHENG (BVI) INTL HOLDINGS LIMITE      1\n",
      "ZENTRIX S DE R.L. DE C.V.                1\n",
      "INDUSTRIAS MERLET, SA DE CV              1\n",
      "PT SANNITA ABADI                         1\n",
      "DISTRIBUIDORA TEXTIL                     1\n",
      "KENT KNITTERS LTD.                       1\n",
      "SUMMITOP(H K ) INDUSTRIAL CO , LTD       1\n",
      "PUTIAN BAIHO FOOTWEAR CO., LTD.          1\n",
      "JIT TEXTILES LIMITED                     1\n",
      "INDUSTRIAS MANUFACTURERAS MYR S.A        1\n",
      "CONFECCIONES DEL VALLE, S.A. DE C.V      1\n",
      "BIHQ PTE. LTD.                           1\n",
      "PT.BUILDYET INDONESIA JL. RAYA           1\n",
      "NINGBO SHENZHOU KNITTING CO. LTD         1\n",
      "KEENWAY INDUSTRIES SDN. BHD.             1\n",
      "TIEN SUNG GARMENT (CAMBODIA) CO LTD      1\n",
      "INDUSTRIAS MERLET S.A. DE C.V.           1\n",
      "QUANG VIET (TIEN GIANG) CO., LTD         1\n",
      "AKEENTEX PTE.LTD.                        1\n",
      "PT.BUILDYET INDONESIA                    1\n",
      "VESTA LOGISTIC SA DE CV DAMCO AGENT      1\n",
      "Name: shipper_declared, dtype: int64\n",
      "NaN                                               1585\n",
      "Idea (Macao Commercial Offshore) Limited            72\n",
      "HEADWAY CAPS INTERNATIONAL CO., INC.                42\n",
      "MAERSK VIETNAM LIMITED                              41\n",
      "Nwp Industries Sdn Bhd                              33\n",
      "SQUARE FASHIONS LTD.                                14\n",
      "HEADS UP INTERNATIONAL CO.,LTD.                     13\n",
      "JINNAT KNITWEARS LIMITED                            12\n",
      "BALL PLANET INDUSTRIAL LIMITED                      11\n",
      "Damco Global Logistics (Shanghai) Limited            9\n",
      "SOCCER INTERNATIONAL PRIVATE LIMITED                 7\n",
      "Kwang Viet Garment Co. Ltd                           6\n",
      "DAMCO INDONESIA, PT                                  5\n",
      "FAKHRUDDIN TEXTILE MILLS LIMITED                     4\n",
      "Foshan Xinguang Knitting Co.,Ltd.                    4\n",
      "CHAN LIANG ENTERPRISE CO., LTD.                      3\n",
      "Industrias Manufactureras Carmar, S.A. de C.V.       2\n",
      "Distribuidora de Ropa Viva, S.A. de C.V.             2\n",
      "Dist. Flexi, S.A. de C.V.                            1\n",
      "GISTEX GARMEN INDONESIA, PT                          1\n",
      "SANNITA ABADI, PT                                    1\n",
      "Nantong Jackbeanie Headwear & Garment Co.,Ltd.       1\n",
      "Name: shipper_d_b_business_name, dtype: int64\n"
     ]
    }
   ],
   "source": [
    "#topSuppliers: only imports\n",
    "print(ciaDBonly.shipper_declared.value_counts(dropna=False))\n",
    "print(ciaDBonly.shipper_d_b_business_name.value_counts(dropna=False))"
   ]
  },
  {
   "cell_type": "code",
   "execution_count": 17,
   "metadata": {
    "collapsed": true
   },
   "outputs": [],
   "source": [
    "cur.execute(\"\"\"\n",
    "select *\n",
    "from billoflading \n",
    "where shipper_d_b_domestic_ultimate_duns_number ~* '.*366470602.*';\"\"\")"
   ]
  },
  {
   "cell_type": "code",
   "execution_count": 16,
   "metadata": {},
   "outputs": [
    {
     "data": {
      "text/plain": [
       "[]"
      ]
     },
     "execution_count": 16,
     "metadata": {},
     "output_type": "execute_result"
    }
   ],
   "source": [
    "cur.fetchall()"
   ]
  },
  {
   "cell_type": "code",
   "execution_count": null,
   "metadata": {
    "collapsed": true
   },
   "outputs": [],
   "source": []
  }
 ],
 "metadata": {
  "kernelspec": {
   "display_name": "Python [default]",
   "language": "python",
   "name": "python3"
  },
  "language_info": {
   "codemirror_mode": {
    "name": "ipython",
    "version": 3
   },
   "file_extension": ".py",
   "mimetype": "text/x-python",
   "name": "python",
   "nbconvert_exporter": "python",
   "pygments_lexer": "ipython3",
   "version": "3.5.2"
  }
 },
 "nbformat": 4,
 "nbformat_minor": 2
}

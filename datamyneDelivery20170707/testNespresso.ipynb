{
 "cells": [
  {
   "cell_type": "code",
   "execution_count": 5,
   "metadata": {
    "collapsed": true
   },
   "outputs": [],
   "source": [
    "import pandas as pd\n",
    "import psycopg2\n",
    "from psycopg2 import sql\n",
    "!ln -s /var/run/postgresql/.s.PGSQL.5432 /tmp/.s.PGSQL.5432"
   ]
  },
  {
   "cell_type": "code",
   "execution_count": 6,
   "metadata": {},
   "outputs": [],
   "source": [
    "conn = psycopg2.connect(database = \"datamyne20170707\", user = \"ram22\")\n",
    "cur = conn.cursor()"
   ]
  },
  {
   "cell_type": "code",
   "execution_count": 7,
   "metadata": {
    "collapsed": true
   },
   "outputs": [],
   "source": [
    "# nike nestle unilever\n",
    "cur.execute(\"\"\"\n",
    "drop table if exists nespresso;\n",
    "create table nespresso as\n",
    "select * from billoflading \n",
    "where shipper_d_b_business_name ~* '.*nespresso.*' or consignee_d_b_business_name ~* '.*nespresso.*' \n",
    "or shipper_d_b_domestic_ultimate_business_name ~* '.*nespresso.*' or consignee_d_b_domestic_ultimate_business_name ~* '.*nespresso.*' \n",
    "or shipper_declared ~* '.*nespresso.*' or consignee_declared ~* '.*nespresso.*'\n",
    "or shipper_unified ~* '.*nespresso.*' or consignee_unified ~* '.*nespresso.*'\n",
    "or notify  ~* '.*nespresso.*';\n",
    "\n",
    "COPY nespresso to '/home/ram22/dataDrive/dataProjects/postgresql/tempOutput/nespresso.csv' WITH CSV HEADER;\n",
    "\"\"\")    "
   ]
  },
  {
   "cell_type": "code",
   "execution_count": 8,
   "metadata": {
    "collapsed": true
   },
   "outputs": [],
   "source": [
    "cur.execute(\"\"\"\n",
    "drop table if exists nespressoDBonly;\n",
    "create table nespressoDBonly as\n",
    "select *\n",
    "from billoflading \n",
    "where consignee_d_b_business_name ~* '.*nespresso.*';\n",
    "\n",
    "COPY nespressoDBonly to '/home/ram22/dataDrive/dataProjects/postgresql/tempOutput/nespressoDBonly.csv' WITH CSV HEADER;\n",
    "\"\"\")"
   ]
  },
  {
   "cell_type": "code",
   "execution_count": 9,
   "metadata": {
    "collapsed": true
   },
   "outputs": [],
   "source": [
    "conn.commit()\n",
    "conn.close()"
   ]
  },
  {
   "cell_type": "code",
   "execution_count": null,
   "metadata": {
    "collapsed": true
   },
   "outputs": [],
   "source": []
  }
 ],
 "metadata": {
  "kernelspec": {
   "display_name": "Python [default]",
   "language": "python",
   "name": "python3"
  },
  "language_info": {
   "codemirror_mode": {
    "name": "ipython",
    "version": 3
   },
   "file_extension": ".py",
   "mimetype": "text/x-python",
   "name": "python",
   "nbconvert_exporter": "python",
   "pygments_lexer": "ipython3",
   "version": "3.5.2"
  }
 },
 "nbformat": 4,
 "nbformat_minor": 2
}

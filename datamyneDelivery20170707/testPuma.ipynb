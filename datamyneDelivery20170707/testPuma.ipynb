{
 "cells": [
  {
   "cell_type": "code",
   "execution_count": 1,
   "metadata": {
    "collapsed": true
   },
   "outputs": [],
   "source": [
    "import pandas as pd\n",
    "import psycopg2\n",
    "from psycopg2 import sql\n",
    "#!ln -s /var/run/postgresql/.s.PGSQL.5432 /tmp/.s.PGSQL.5432"
   ]
  },
  {
   "cell_type": "code",
   "execution_count": 2,
   "metadata": {
    "collapsed": true
   },
   "outputs": [],
   "source": [
    "conn = psycopg2.connect(database = \"datamyne20170707\", user = \"ram22\")\n",
    "cur = conn.cursor()"
   ]
  },
  {
   "cell_type": "code",
   "execution_count": 3,
   "metadata": {
    "collapsed": true
   },
   "outputs": [],
   "source": [
    "cur.execute(\"\"\"\n",
    "drop table if exists puma;\n",
    "create table puma as\n",
    "select shipper_unified, shipper_declared, consignee_unified, consignee_declared, shipper_d_b_business_name, consignee_d_b_business_name\n",
    "from billoflading \n",
    "where shipper_d_b_business_name='Puma North America, Inc.' or consignee_d_b_business_name='Puma North America, Inc.' \n",
    "or shipper_declared ~* '.*puma.*' or consignee_declared ~* '.*puma.*'\n",
    "or shipper_unified ~* '.*puma.*' or consignee_unified ~* '.*puma.*';\n",
    "\n",
    "COPY puma to '/home/ram22/dataDrive/dataProjects/postgresql/tempOutput/puma.csv' WITH CSV HEADER;\n",
    "\"\"\")    "
   ]
  },
  {
   "cell_type": "code",
   "execution_count": 4,
   "metadata": {
    "collapsed": true
   },
   "outputs": [],
   "source": [
    "cur.execute(\"\"\"\n",
    "drop table if exists pumaDBonly;\n",
    "create table pumaDBonly as\n",
    "select *\n",
    "from billoflading \n",
    "where consignee_d_b_business_name='Puma North America, Inc.';\n",
    "\n",
    "COPY pumaDBonly to '/home/ram22/dataDrive/dataProjects/postgresql/tempOutput/pumaDBonly.csv' WITH CSV HEADER;\n",
    "\"\"\")"
   ]
  },
  {
   "cell_type": "code",
   "execution_count": 5,
   "metadata": {
    "collapsed": true
   },
   "outputs": [],
   "source": [
    "conn.commit()\n",
    "conn.close()"
   ]
  },
  {
   "cell_type": "code",
   "execution_count": 3,
   "metadata": {
    "collapsed": true
   },
   "outputs": [],
   "source": [
    "puma = pd.read_csv('puma.csv')"
   ]
  },
  {
   "cell_type": "code",
   "execution_count": 7,
   "metadata": {},
   "outputs": [
    {
     "data": {
      "text/plain": [
       "PUMA NORTH AMERICA INC, MA                 1983\n",
       "PUMA NORTH AMERICA INC, WO                  970\n",
       "COBRA GOLF INC DBA COBRA PUMA GOLF, WO      126\n",
       "PUMA KIDS APPAREL NA LLC, NY                 92\n",
       "LAZYONEINCRICHMOND APPAREL GROUP, UT          7\n",
       "COBRA GOLF INC DBA COBRA PUMA GOLFU, CA       6\n",
       "PUMA NORTH AMERICA C O NYK, CA                5\n",
       "PUMA INTERNATIONAL TRADING GMBH, MA           4\n",
       "CRICKET MERCHANT LLC, IL                      2\n",
       "M S LAZYONE INC, UT                           1\n",
       "COBRA PUMA GOLF, CA                           1\n",
       "Name: consignee_unified, dtype: int64"
      ]
     },
     "execution_count": 7,
     "metadata": {},
     "output_type": "execute_result"
    }
   ],
   "source": [
    "puma.consignee_unified.value_counts()"
   ]
  },
  {
   "cell_type": "code",
   "execution_count": 8,
   "metadata": {},
   "outputs": [
    {
     "data": {
      "text/plain": [
       "3054"
      ]
     },
     "execution_count": 8,
     "metadata": {},
     "output_type": "execute_result"
    }
   ],
   "source": [
    "1983+970+92+5+4"
   ]
  },
  {
   "cell_type": "code",
   "execution_count": 9,
   "metadata": {},
   "outputs": [
    {
     "data": {
      "text/plain": [
       "PUMA NORTH AMERICA INC                 2394\n",
       "PUMA NORTH AMERICA, INC.                209\n",
       "PUMA NORTH AMERICA                      203\n",
       "COBRA GOLF INC DBA COBRA PUMA GOLF      124\n",
       "PUMA NORTH AMERICA INC.                  77\n",
       "PUMA KIDS APPAREL LLC                    67\n",
       "PUMA NORTH AMERICA, INC                  23\n",
       "PUMA  NORTH AMERICA                      18\n",
       "PUMA NORTH AMERICA.                      17\n",
       "PUMA NORTH AMERICA,                      15\n",
       "PUMA KIDS APPAREL                        14\n",
       "PUMA KIDS APPAREL N A LLC                 8\n",
       "COBRA GOLF INC DBA COBRA PUMA GOLFU       6\n",
       "PUMA INTERNATIONAL TRADING GMBH           4\n",
       "LAZYONE, INC,                             3\n",
       "PUMA KIDS APPAREL NA LLC                  3\n",
       "LAZYONE INC                               3\n",
       "CRICKET MERCHANT LLC                      2\n",
       "COBRA GOLF INC DBA COBRA PUMA             2\n",
       "PUMA  NORTH  AMERICA                      1\n",
       "COBRA PUMA GOLF                           1\n",
       "PUMA NORTH AMERACA                        1\n",
       "LAZY ONE INC                              1\n",
       "M S LAZYONE INC                           1\n",
       "Name: consignee_declared, dtype: int64"
      ]
     },
     "execution_count": 9,
     "metadata": {},
     "output_type": "execute_result"
    }
   ],
   "source": [
    "puma.consignee_declared.value_counts()"
   ]
  },
  {
   "cell_type": "code",
   "execution_count": 10,
   "metadata": {},
   "outputs": [
    {
     "data": {
      "text/plain": [
       "3054"
      ]
     },
     "execution_count": 10,
     "metadata": {},
     "output_type": "execute_result"
    }
   ],
   "source": [
    "2394+209+203+77+67+23+18+17+15+14+8+4+3+1+1"
   ]
  },
  {
   "cell_type": "code",
   "execution_count": 12,
   "metadata": {},
   "outputs": [
    {
     "data": {
      "text/plain": [
       "Puma North America, Inc.        1869\n",
       "NaN                             1318\n",
       "Richmond Apparel Group, Inc.       7\n",
       "Cricket Merchant                   2\n",
       "Cobra Golf Incorporated            1\n",
       "Name: consignee_d_b_business_name, dtype: int64"
      ]
     },
     "execution_count": 12,
     "metadata": {},
     "output_type": "execute_result"
    }
   ],
   "source": [
    "puma.consignee_d_b_business_name.value_counts(dropna=False)"
   ]
  },
  {
   "cell_type": "code",
   "execution_count": 13,
   "metadata": {},
   "outputs": [
    {
     "data": {
      "text/plain": [
       "3187"
      ]
     },
     "execution_count": 13,
     "metadata": {},
     "output_type": "execute_result"
    }
   ],
   "source": [
    "1869+1318"
   ]
  },
  {
   "cell_type": "code",
   "execution_count": 14,
   "metadata": {},
   "outputs": [
    {
     "data": {
      "text/plain": [
       "PUMA HOSIERY MILL        6\n",
       "M S PUMA HOSIERY MILL    1\n",
       "Name: shipper_declared, dtype: int64"
      ]
     },
     "execution_count": 14,
     "metadata": {},
     "output_type": "execute_result"
    }
   ],
   "source": [
    "puma.shipper_declared[puma.consignee_d_b_business_name=='Richmond Apparel Group, Inc.'].value_counts(dropna=False)"
   ]
  },
  {
   "cell_type": "code",
   "execution_count": 15,
   "metadata": {},
   "outputs": [
    {
     "data": {
      "text/plain": [
       "PUMA HOSIERY MILL (IN)    7\n",
       "Name: shipper_unified, dtype: int64"
      ]
     },
     "execution_count": 15,
     "metadata": {},
     "output_type": "execute_result"
    }
   ],
   "source": [
    "#PUMA HOSIERY MILL IS PUMA!\n",
    "puma.shipper_unified[puma.consignee_d_b_business_name=='Richmond Apparel Group, Inc.'].value_counts(dropna=False)"
   ]
  },
  {
   "cell_type": "code",
   "execution_count": 16,
   "metadata": {},
   "outputs": [
    {
     "data": {
      "text/plain": [
       "PUMA SPORTS INDIA PVT LTD    2\n",
       "Name: shipper_declared, dtype: int64"
      ]
     },
     "execution_count": 16,
     "metadata": {},
     "output_type": "execute_result"
    }
   ],
   "source": [
    "puma.shipper_declared[puma.consignee_d_b_business_name=='Cricket Merchant'].value_counts(dropna=False)"
   ]
  },
  {
   "cell_type": "code",
   "execution_count": null,
   "metadata": {
    "collapsed": true
   },
   "outputs": [],
   "source": []
  },
  {
   "cell_type": "code",
   "execution_count": null,
   "metadata": {
    "collapsed": true
   },
   "outputs": [],
   "source": []
  },
  {
   "cell_type": "code",
   "execution_count": 34,
   "metadata": {
    "collapsed": true
   },
   "outputs": [],
   "source": [
    "pumaDBonly = pd.read_csv('pumaDBonly.csv')"
   ]
  },
  {
   "cell_type": "code",
   "execution_count": 35,
   "metadata": {},
   "outputs": [
    {
     "data": {
      "text/plain": [
       "Puma North America, Inc.    1869\n",
       "Name: consignee_d_b_business_name, dtype: int64"
      ]
     },
     "execution_count": 35,
     "metadata": {},
     "output_type": "execute_result"
    }
   ],
   "source": [
    "#name\n",
    "pumaDBonly.consignee_d_b_business_name.value_counts(dropna=False)"
   ]
  },
  {
   "cell_type": "code",
   "execution_count": 31,
   "metadata": {},
   "outputs": [
    {
     "name": "stdout",
     "output_type": "stream",
     "text": [
      "Westford    1869\n",
      "Name: consignee_d_b_city_name, dtype: int64\n",
      "WESTFORD, MA    1869\n",
      "Name: consignee_declared_city, dtype: int64\n",
      "WESTFORD, MA    1330\n",
      "WESTFORD         539\n",
      "Name: consignee_declared_zip_code_city, dtype: int64\n",
      "8785    1869\n",
      "Name: consignee_d_b_db_city_code, dtype: int64\n",
      "18863616    1869\n",
      "Name: consignee_d_b_postal_code, dtype: int64\n"
     ]
    }
   ],
   "source": [
    "#cityName\n",
    "\n",
    "# declared zip code is either read incorrectly or useless\n",
    "print(pumaDBonly.consignee_d_b_city_name.value_counts(dropna=False))\n",
    "print(pumaDBonly.consignee_declared_city.value_counts(dropna=False))\n",
    "print(pumaDBonly.consignee_declared_zip_code_city.value_counts(dropna=False))\n",
    "print(pumaDBonly.consignee_d_b_db_city_code.value_counts(dropna=False))\n",
    "\n",
    "print(pumaDBonly.consignee_d_b_postal_code.value_counts(dropna=False)) # 8 digits?"
   ]
  },
  {
   "cell_type": "code",
   "execution_count": 32,
   "metadata": {},
   "outputs": [
    {
     "name": "stdout",
     "output_type": "stream",
     "text": [
      "1995    1869\n",
      "Name: consignee_d_b_year_started, dtype: int64\n"
     ]
    }
   ],
   "source": [
    "#dateEstablished\n",
    "print(pumaDBonly.consignee_d_b_year_started.value_counts(dropna=False))"
   ]
  },
  {
   "cell_type": "code",
   "execution_count": 33,
   "metadata": {},
   "outputs": [
    {
     "name": "stdout",
     "output_type": "stream",
     "text": [
      "NaN           1330\n",
      " 42.446396     539\n",
      "Name: consignee_declared_zip_code_latitude, dtype: int64\n",
      "42.561173    1869\n",
      "Name: consignee_d_b_latitude, dtype: int64\n",
      "NaN           1330\n",
      "-71.459405     539\n",
      "Name: consignee_declared_zip_code_longitude, dtype: int64\n",
      "-71.424057    1869\n",
      "Name: consignee_d_b_longitude, dtype: int64\n"
     ]
    }
   ],
   "source": [
    "#latitude, longitude\n",
    "print(pumaDBonly.consignee_declared_zip_code_latitude.value_counts(dropna=False))\n",
    "print(pumaDBonly.consignee_d_b_latitude.value_counts(dropna=False))\n",
    "print(pumaDBonly.consignee_declared_zip_code_longitude.value_counts(dropna=False))\n",
    "print(pumaDBonly.consignee_d_b_longitude.value_counts(dropna=False))"
   ]
  },
  {
   "cell_type": "code",
   "execution_count": 37,
   "metadata": {},
   "outputs": [
    {
     "data": {
      "text/plain": [
       "CORPORATION    1869\n",
       "Name: consignee_d_b_legal_status_name, dtype: int64"
      ]
     },
     "execution_count": 37,
     "metadata": {},
     "output_type": "execute_result"
    }
   ],
   "source": [
    "#ownership\n",
    "pumaDBonly.consignee_d_b_legal_status_name.value_counts(dropna=False)"
   ]
  },
  {
   "cell_type": "code",
   "execution_count": 38,
   "metadata": {},
   "outputs": [
    {
     "name": "stdout",
     "output_type": "stream",
     "text": [
      "424320    1869\n",
      "Name: consignee_d_b_primary_naics_1_1_code, dtype: int64\n",
      "Men's and Boys' Clothing and Furnishings Merchant Wholesalers    1869\n",
      "Name: consignee_d_b_primary_naics_1_1_description, dtype: int64\n"
     ]
    }
   ],
   "source": [
    "#primaryNAICS, primaryNAICSDescription\n",
    "print(pumaDBonly.consignee_d_b_primary_naics_1_1_code.value_counts())\n",
    "print(pumaDBonly.consignee_d_b_primary_naics_1_1_description.value_counts())"
   ]
  },
  {
   "cell_type": "code",
   "execution_count": 42,
   "metadata": {},
   "outputs": [
    {
     "data": {
      "text/plain": [
       "481249487.0    1869\n",
       "Name: consignee_d_b_sales_volume_us_dollars, dtype: int64"
      ]
     },
     "execution_count": 42,
     "metadata": {},
     "output_type": "execute_result"
    }
   ],
   "source": [
    "#salesVolume\n",
    "pumaDBonly.consignee_d_b_sales_volume_us_dollars.value_counts()"
   ]
  },
  {
   "cell_type": "code",
   "execution_count": 39,
   "metadata": {},
   "outputs": [
    {
     "data": {
      "text/plain": [
       "507    1869\n",
       "Name: consignee_d_b_employees_total, dtype: int64"
      ]
     },
     "execution_count": 39,
     "metadata": {},
     "output_type": "execute_result"
    }
   ],
   "source": [
    "#sizeOfOrganization\n",
    "pumaDBonly.consignee_d_b_employees_total.value_counts()"
   ]
  },
  {
   "cell_type": "code",
   "execution_count": 43,
   "metadata": {},
   "outputs": [
    {
     "name": "stdout",
     "output_type": "stream",
     "text": [
      "MASSACHUSETTS, MA    1869\n",
      "Name: consignee_declared_state, dtype: int64\n",
      "MA    1869\n",
      "Name: consignee_declared_state_abb, dtype: int64\n",
      "MA    539\n",
      "Name: consignee_declared_zip_code_state, dtype: int64\n",
      "Massachusetts    1869\n",
      "Name: consignee_d_b_state_province_name, dtype: int64\n",
      "41    1869\n",
      "Name: consignee_d_b_db_state_code, dtype: int64\n"
     ]
    }
   ],
   "source": [
    "#stateProvinceName\n",
    "print(pumaDBonly.consignee_declared_state.value_counts())\n",
    "print(pumaDBonly.consignee_declared_state_abb.value_counts())\n",
    "print(pumaDBonly.consignee_declared_zip_code_state.value_counts())\n",
    "print(pumaDBonly.consignee_d_b_state_province_name.value_counts())\n",
    "print(pumaDBonly.consignee_d_b_db_state_code.value_counts())"
   ]
  },
  {
   "cell_type": "code",
   "execution_count": 44,
   "metadata": {},
   "outputs": [
    {
     "name": "stdout",
     "output_type": "stream",
     "text": [
      "10 Lyberty Way    1869\n",
      "Name: consignee_d_b_street_address, dtype: int64\n",
      "Series([], Name: consignee_d_b_street_address_2, dtype: int64)\n"
     ]
    }
   ],
   "source": [
    "#streetAddress\n",
    "print(pumaDBonly.consignee_d_b_street_address.value_counts())\n",
    "print(pumaDBonly.consignee_d_b_street_address_2.value_counts())"
   ]
  },
  {
   "cell_type": "code",
   "execution_count": 47,
   "metadata": {},
   "outputs": [
    {
     "data": {
      "text/plain": [
       "1486.1199999999978"
      ]
     },
     "execution_count": 47,
     "metadata": {},
     "output_type": "execute_result"
    }
   ],
   "source": [
    "#totalContainers\n",
    "pumaDBonly.container_quantity = pd.to_numeric(pumaDBonly.container_quantity)\n",
    "pumaDBonly.container_quantity.sum()"
   ]
  },
  {
   "cell_type": "code",
   "execution_count": 48,
   "metadata": {},
   "outputs": [
    {
     "data": {
      "text/plain": [
       "2820.5000000000005"
      ]
     },
     "execution_count": 48,
     "metadata": {},
     "output_type": "execute_result"
    }
   ],
   "source": [
    "#totalTEUS\n",
    "pumaDBonly.calc_teus = pd.to_numeric(pumaDBonly.calc_teus)\n",
    "pumaDBonly.calc_teus.sum()"
   ]
  },
  {
   "cell_type": "code",
   "execution_count": 49,
   "metadata": {},
   "outputs": [
    {
     "data": {
      "text/plain": [
       "168613644.61999926"
      ]
     },
     "execution_count": 49,
     "metadata": {},
     "output_type": "execute_result"
    }
   ],
   "source": [
    "#inputVolume\n",
    "#totalEstimatedTradeValue is the same as we have no exports\n",
    "#\n",
    "pumaDBonly.calc_value_usd = pd.to_numeric(pumaDBonly.calc_value_usd)\n",
    "pumaDBonly.calc_value_usd.sum()"
   ]
  },
  {
   "cell_type": "code",
   "execution_count": 50,
   "metadata": {},
   "outputs": [
    {
     "data": {
      "text/plain": [
       "INDONESIA      689\n",
       "CHINA          372\n",
       "CAMBODIA       324\n",
       "VIETNAM        155\n",
       "BANGLADESH      77\n",
       "EL SALVADOR     58\n",
       "MALAYSIA        48\n",
       "PHILIPPINES     42\n",
       "PAKISTAN        36\n",
       "TAIWAN          22\n",
       "MEXICO          19\n",
       "INDIA            7\n",
       "HONDURAS         4\n",
       "MACAU            4\n",
       "JORDAN           3\n",
       "TURKEY           3\n",
       "SINGAPORE        3\n",
       "HONG KONG        2\n",
       "SLOVAKIA         1\n",
       "Name: country_of_origin, dtype: int64"
      ]
     },
     "execution_count": 50,
     "metadata": {},
     "output_type": "execute_result"
    }
   ],
   "source": [
    "#topCountriesTradedWith: only imports\n",
    "pumaDBonly.country_of_origin.value_counts()"
   ]
  },
  {
   "cell_type": "code",
   "execution_count": 53,
   "metadata": {},
   "outputs": [
    {
     "name": "stdout",
     "output_type": "stream",
     "text": [
      "PT POU CHEN INDONESIA                  372\n",
      "PT HORN MING INDONESIA                 233\n",
      "DAMCO CAMBODIA LTD                     122\n",
      "MAERSK VIETNAM LTD ON BEHALF OF         92\n",
      "DAMCO (CAMBODIA) LTD ON BEHALF  OF      69\n",
      "BUDDIES MACAO COMMERCIAL OFFSHORE       51\n",
      "DAMCO (CAMBODIA) LTD ON BEHALF  O       51\n",
      "HEADWAY CAPS INTERNATIONAL CO INC       44\n",
      "BEAUTIFUL SPRING FOOTWEAR CO.,LTD       43\n",
      "PT .BUILDYET INDONESIA                  35\n",
      "TSG INTERNATIONAL LIMITED               34\n",
      "KEENWAY INDUSTRIES SDN BHD              33\n",
      "DIAMOND GROUP INTERNATIONAL LTD         32\n",
      "KARNAPHULI SHOES INDS. LTD.             27\n",
      "HUAXUN LOGISTICS SHENZHEN COMPANY L     27\n",
      "BUDDIES (MACAO COMMERCIAL OFFSHORE)     26\n",
      "CONFECCIONES DEL VALLE SA DE            24\n",
      "DAMCO INTL BV C/O MAERSK VIETNAM LT     22\n",
      "PUTIAN BAIHO FOOTWEAR COMPANY LIMIT     21\n",
      "REGINA MIRACLE INTERNATIONAL (GROUP     19\n",
      "BIHQ PTE LTD                            18\n",
      "ALI TRADING CO. (PVT.) LTD.,            18\n",
      "DA SHENG (BVI) INTL HOLDING LIMITED     17\n",
      "GOODDALE LTD                            16\n",
      "AWAN SPORTS INDUSTRIES (PVT) LTD.,      14\n",
      "SQUARE FASHIONS LTD.                    14\n",
      "HEADS UP INTERNATIONAL CORPORATION      13\n",
      "SUMMITOP (H.K.) INDUSTRIAL CO., LTD     13\n",
      "JINNAT KNITWEARS LTD.                   11\n",
      "BALL PLANET INDUSTRIAL LIMITED          11\n",
      "                                      ... \n",
      "BRANDON TRADING (SHANGHAI) LTD           1\n",
      "PHILLA INDUSTRIES INC.                   1\n",
      "JINNAT KNITWEARS LIMITED                 1\n",
      "GODEN GOLF LIMITED                       1\n",
      "DOMEX (VN) CO., LTD                      1\n",
      "INDUSTRIAS MANUFACTURERAS MYR S.A.       1\n",
      "RIALTO S.R.O.                            1\n",
      "WING FENG HUNG YIP FASHION LIMITED       1\n",
      "CONFECCIONES DEL                         1\n",
      "DA SHENG (BVI) INTL HOLDINGS LIMITE      1\n",
      "ZENTRIX S DE R.L. DE C.V.                1\n",
      "INDUSTRIAS MERLET, SA DE CV              1\n",
      "PT SANNITA ABADI                         1\n",
      "DISTRIBUIDORA TEXTIL                     1\n",
      "KENT KNITTERS LTD.                       1\n",
      "SUMMITOP(H K ) INDUSTRIAL CO , LTD       1\n",
      "PUTIAN BAIHO FOOTWEAR CO., LTD.          1\n",
      "JIT TEXTILES LIMITED                     1\n",
      "INDUSTRIAS MANUFACTURERAS MYR S.A        1\n",
      "CONFECCIONES DEL VALLE, S.A. DE C.V      1\n",
      "BIHQ PTE. LTD.                           1\n",
      "PT.BUILDYET INDONESIA JL. RAYA           1\n",
      "NINGBO SHENZHOU KNITTING CO. LTD         1\n",
      "KEENWAY INDUSTRIES SDN. BHD.             1\n",
      "TIEN SUNG GARMENT (CAMBODIA) CO LTD      1\n",
      "INDUSTRIAS MERLET S.A. DE C.V.           1\n",
      "QUANG VIET (TIEN GIANG) CO., LTD         1\n",
      "AKEENTEX PTE.LTD.                        1\n",
      "PT.BUILDYET INDONESIA                    1\n",
      "VESTA LOGISTIC SA DE CV DAMCO AGENT      1\n",
      "Name: shipper_declared, dtype: int64\n",
      "NaN                                               1585\n",
      "Idea (Macao Commercial Offshore) Limited            72\n",
      "HEADWAY CAPS INTERNATIONAL CO., INC.                42\n",
      "MAERSK VIETNAM LIMITED                              41\n",
      "Nwp Industries Sdn Bhd                              33\n",
      "SQUARE FASHIONS LTD.                                14\n",
      "HEADS UP INTERNATIONAL CO.,LTD.                     13\n",
      "JINNAT KNITWEARS LIMITED                            12\n",
      "BALL PLANET INDUSTRIAL LIMITED                      11\n",
      "Damco Global Logistics (Shanghai) Limited            9\n",
      "SOCCER INTERNATIONAL PRIVATE LIMITED                 7\n",
      "Kwang Viet Garment Co. Ltd                           6\n",
      "DAMCO INDONESIA, PT                                  5\n",
      "FAKHRUDDIN TEXTILE MILLS LIMITED                     4\n",
      "Foshan Xinguang Knitting Co.,Ltd.                    4\n",
      "CHAN LIANG ENTERPRISE CO., LTD.                      3\n",
      "Industrias Manufactureras Carmar, S.A. de C.V.       2\n",
      "Distribuidora de Ropa Viva, S.A. de C.V.             2\n",
      "Dist. Flexi, S.A. de C.V.                            1\n",
      "GISTEX GARMEN INDONESIA, PT                          1\n",
      "SANNITA ABADI, PT                                    1\n",
      "Nantong Jackbeanie Headwear & Garment Co.,Ltd.       1\n",
      "Name: shipper_d_b_business_name, dtype: int64\n"
     ]
    }
   ],
   "source": [
    "#topSuppliers: only imports\n",
    "print(pumaDBonly.shipper_declared.value_counts(dropna=False))\n",
    "print(pumaDBonly.shipper_d_b_business_name.value_counts(dropna=False))"
   ]
  },
  {
   "cell_type": "code",
   "execution_count": null,
   "metadata": {
    "collapsed": true
   },
   "outputs": [],
   "source": []
  }
 ],
 "metadata": {
  "kernelspec": {
   "display_name": "Python [default]",
   "language": "python",
   "name": "python3"
  },
  "language_info": {
   "codemirror_mode": {
    "name": "ipython",
    "version": 3
   },
   "file_extension": ".py",
   "mimetype": "text/x-python",
   "name": "python",
   "nbconvert_exporter": "python",
   "pygments_lexer": "ipython3",
   "version": "3.5.2"
  }
 },
 "nbformat": 4,
 "nbformat_minor": 2
}

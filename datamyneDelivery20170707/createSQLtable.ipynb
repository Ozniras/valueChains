{
 "cells": [
  {
   "cell_type": "code",
   "execution_count": 1,
   "metadata": {
    "collapsed": true
   },
   "outputs": [],
   "source": [
    "import pandas as pd\n",
    "import psycopg2\n",
    "from psycopg2 import sql\n",
    "!ln -s /var/run/postgresql/.s.PGSQL.5432 /tmp/.s.PGSQL.5432"
   ]
  },
  {
   "cell_type": "code",
   "execution_count": 2,
   "metadata": {
    "collapsed": true
   },
   "outputs": [],
   "source": [
    "conn = psycopg2.connect(database = \"datamyne20170707\", user = \"ram22\")\n",
    "cur = conn.cursor()"
   ]
  },
  {
   "cell_type": "code",
   "execution_count": 3,
   "metadata": {
    "collapsed": true
   },
   "outputs": [],
   "source": [
    "#If we ever get around to load other fields more specifically, these should be loaded as text with no length limit\n",
    "loadAsText = [\"shipper_declared\", \"shipper_declared_address\", \"consignee_declared\",\n",
    "              \"consignee_declared_address\", \"notify\", \"description\", \"marks\",\n",
    "              \"master_shipper\", \"master_consignee_unified\", \"master_notify\"]"
   ]
  },
  {
   "cell_type": "code",
   "execution_count": 5,
   "metadata": {},
   "outputs": [
    {
     "name": "stdout",
     "output_type": "stream",
     "text": [
      "['bill_id', 'bill_of_lading_number', 'vessel_date', 'company_field_found', 'country_of_origin', 'world_region_by_country_of_origin', 'port_of_departure', 'country_by_port_of_departure', 'world_region_by_port_of_departure', 'us_port', 'us_port_state', 'us_coast', 'final_destination', 'final_destination_state_code', 'place_of_receipt', 'country_by_place_of_receipt', 'world_region_by_place_of_receipt', 'foreign_destination', 'shipper_unified_id', 'shipper_duns_number', 'shipper_unified', 'shipper_declared', 'shipper_declared_address', 'consignee_unified_id', 'consignee_duns_number', 'consignee_unified', 'consignee_declared', 'consignee_declared_address', 'consignee_declared_state', 'consignee_declared_state_abb', 'consignee_declared_city', 'consignee_declared_zip_code', 'consignee_declared_zip_code_state', 'consignee_declared_zip_code_county', 'consignee_declared_zip_code_city', 'consignee_declared_zip_code_latitude', 'consignee_declared_zip_code_longitude', 'notify', 'hs_code_2_digits', 'hs_code_2_digits_description', 'hs_code_2_digits_opt', 'hs_code_2_digits_opt_description', 'hs_concat', 'hs_concat_opt', 'hs_concat_opt_description', 'description', 'marks', 'container_number', 'import_type', 'container_quantity', 'container_quantity_bill', 'container_size', 'container_type', 'bill_cargo_quantity', 'bill_cargo_quantity_unit', 'bill_cargo_measure', 'bill_cargo_measure_unit', 'calc_weight_kg', 'calc_weight_mt', 'calc_value_usd', 'calc_teus', 'lcl_fcl', 'carrier_code', 'carrier_name', 'vocc_code', 'vocc_name', 'nvocc_code', 'nvocc_name', 'vessel', 'vessel_country_name', 'voyage', 'imo_code', 'in_bond_entry_type_name', 'master_house_sa', 'bill_of_lading_master', 'master_shipper', 'master_consignee_unified', 'master_notify', 'date_change', 'shipper_d_b_duns_number', 'shipper_d_b_business_name', 'shipper_d_b_tradestyle_name', 'shipper_d_b_legal_status_code', 'shipper_d_b_legal_status_name', 'shipper_d_b_status_code', 'shipper_d_b_status_name', 'shipper_d_b_street_address', 'shipper_d_b_street_address_2', 'shipper_d_b_db_city_code', 'shipper_d_b_city_name', 'shipper_d_b_db_us_county_code', 'shipper_d_b_state_province_name', 'shipper_d_b_db_state_code', 'shipper_d_b_country_name', 'shipper_d_b_db_country_code', 'shipper_d_b_postal_code', 'shipper_d_b_chief_executive_officer_name', 'shipper_d_b_chief_executive_officer_title', 'shipper_d_b_otc_ticker', 'shipper_d_b_nyse_ticker', 'shipper_d_b_ase_ticker', 'shipper_d_b_nms_ticker', 'shipper_d_b_nas_ticker', 'shipper_d_b_domestic_ultimate_duns_number', 'shipper_d_b_domestic_ultimate_business_name', 'shipper_d_b_telephone_number', 'shipper_d_b_facsimile_number', 'shipper_d_b_url_domain_name_1', 'shipper_d_b_url_domain_name_2', 'shipper_d_b_employees_total', 'shipper_d_b_sales_volume_us_dollars', 'shipper_d_b_year_started', 'shipper_d_b_import_export_agent_code', 'shipper_d_b_us_1987_sic_1', 'shipper_d_b_line_of_business', 'shipper_d_b_latitude', 'shipper_d_b_longitude', 'shipper_d_b_primary_naics_1_1_code', 'shipper_d_b_primary_naics_1_1_description', 'consignee_d_b_duns_number', 'consignee_d_b_business_name', 'consignee_d_b_tradestyle_name', 'consignee_d_b_legal_status_code', 'consignee_d_b_legal_status_name', 'consignee_d_b_status_code', 'consignee_d_b_status_name', 'consignee_d_b_street_address', 'consignee_d_b_street_address_2', 'consignee_d_b_db_city_code', 'consignee_d_b_city_name', 'consignee_d_b_db_us_county_code', 'consignee_d_b_state_province_name', 'consignee_d_b_db_state_code', 'consignee_d_b_country_name', 'consignee_d_b_db_country_code', 'consignee_d_b_postal_code', 'consignee_d_b_chief_executive_officer_name', 'consignee_d_b_chief_executive_officer_title', 'consignee_d_b_otc_ticker', 'consignee_d_b_nyse_ticker', 'consignee_d_b_ase_ticker', 'consignee_d_b_nms_ticker', 'consignee_d_b_nas_ticker', 'consignee_d_b_domestic_ultimate_duns_number', 'consignee_d_b_domestic_ultimate_business_name', 'consignee_d_b_telephone_number', 'consignee_d_b_facsimile_number', 'consignee_d_b_url_domain_name_1', 'consignee_d_b_url_domain_name_2', 'consignee_d_b_employees_total', 'consignee_d_b_sales_volume_us_dollars', 'consignee_d_b_year_started', 'consignee_d_b_import_export_agent_code', 'consignee_d_b_us_1987_sic_1', 'consignee_d_b_line_of_business', 'consignee_d_b_latitude', 'consignee_d_b_longitude', 'consignee_d_b_primary_naics_1_1_code', 'consignee_d_b_primary_naics_1_1_description']\n"
     ]
    }
   ],
   "source": [
    "inputFile = open('/home/ram22/dataDrive/dataProjects/MeshIntel Datamyne Delivery.csv', 'r')\n",
    "#inputFile = open('MeshIntel Datamyne Delivery_n10.csv', 'r')\n",
    "varNames = inputFile.readline()\n",
    "\n",
    "# get rid of \\n at end of line and text delimeter, then create list\n",
    "varNames = varNames[:-2].replace('\"', '').split(',')\n",
    "print(varNames)"
   ]
  },
  {
   "cell_type": "code",
   "execution_count": 6,
   "metadata": {
    "collapsed": true
   },
   "outputs": [],
   "source": [
    "cur.execute(\"DROP TABLE IF EXISTS billoflading;\")\n",
    "\n",
    "i = 0\n",
    "for field in varNames:\n",
    "    if i == 0:\n",
    "        cur.execute(sql.SQL(\"CREATE TABLE billoflading ({0} varchar);\").format(sql.Identifier(field)))\n",
    "        i += 1\n",
    "    else:\n",
    "        cur.execute(sql.SQL(\"ALTER TABLE billoflading ADD {0} varchar;\").format(sql.Identifier(field)))\n",
    "\n",
    "cur.copy_expert(\"COPY billoflading FROM STDIN WITH CSV HEADER\", inputFile)\n"
   ]
  },
  {
   "cell_type": "code",
   "execution_count": 7,
   "metadata": {
    "collapsed": true
   },
   "outputs": [],
   "source": [
    "inputFile.close()\n",
    "conn.commit()\n",
    "conn.close()"
   ]
  },
  {
   "cell_type": "code",
   "execution_count": null,
   "metadata": {
    "collapsed": true
   },
   "outputs": [],
   "source": []
  }
 ],
 "metadata": {
  "kernelspec": {
   "display_name": "Python 3",
   "language": "python",
   "name": "python3"
  },
  "language_info": {
   "codemirror_mode": {
    "name": "ipython",
    "version": 3
   },
   "file_extension": ".py",
   "mimetype": "text/x-python",
   "name": "python",
   "nbconvert_exporter": "python",
   "pygments_lexer": "ipython3",
   "version": "3.6.0"
  }
 },
 "nbformat": 4,
 "nbformat_minor": 2
}

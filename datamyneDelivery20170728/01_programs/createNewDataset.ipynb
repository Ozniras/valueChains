{
 "cells": [
  {
   "cell_type": "code",
   "execution_count": 6,
   "metadata": {
    "collapsed": true
   },
   "outputs": [],
   "source": [
    "import pandas as pd\n",
    "import psycopg2\n",
    "#from psycopg2 import sql\n",
    "#!ln -s /var/run/postgresql/.s.PGSQL.5432 /tmp/.s.PGSQL.5432'"
   ]
  },
  {
   "cell_type": "code",
   "execution_count": 61,
   "metadata": {
    "collapsed": true
   },
   "outputs": [],
   "source": [
    "conn = psycopg2.connect(database = \"datamyne20170728\", user = \"ram22\")\n",
    "cur = conn.cursor()"
   ]
  },
  {
   "cell_type": "code",
   "execution_count": 62,
   "metadata": {
    "collapsed": true
   },
   "outputs": [],
   "source": [
    "cur.execute(\"\"\"\n",
    "drop table if exists relevantbol;\n",
    "create table relevantbol as\n",
    "select *\n",
    "from\n",
    "(select *, duns_nbr_consignee::bigint as duns_number_bol from billoflading_all\n",
    "WHERE duns_nbr_consignee != '' AND duns_nbr_consignee IS NOT NULL\n",
    ") as bol\n",
    "inner join \n",
    "(select consignee_d_b_duns_number::bigint as duns_number_db, \n",
    "consignee_d_b_duns_number,\n",
    "consignee_d_b_business_name,\n",
    "consignee_d_b_headquarter_duns_number, \n",
    "consignee_d_b_headquarter_parent_business_name,\n",
    "consignee_d_b_domestic_ultimate_duns_number, \n",
    "consignee_d_b_domestic_ultimate_business_name,\n",
    "consignee_d_b_global_ultimate_duns_number, \n",
    "consignee_d_b_global_ultimate_business_name\n",
    "from children_db_profiles) as children\n",
    "on (bol.duns_number_bol = children.duns_number_db);\n",
    "\"\"\")\n",
    "conn.commit()"
   ]
  },
  {
   "cell_type": "code",
   "execution_count": 63,
   "metadata": {
    "collapsed": true
   },
   "outputs": [],
   "source": [
    "cur.execute(\"\"\"\n",
    "COPY relevantbol to\n",
    "    '/home/ram22/dataDrive/dataProjects/postgresql/tempOutput/relevantBoL.csv'\n",
    "    WITH CSV HEADER;\n",
    "\"\"\")\n",
    "!cp '/home/ram22/dataDrive/dataProjects/postgresql/tempOutput/relevantBoL.csv' '../02_dataCreated/'"
   ]
  },
  {
   "cell_type": "code",
   "execution_count": 64,
   "metadata": {
    "collapsed": true
   },
   "outputs": [],
   "source": [
    "cur.execute(\"\"\"\n",
    "drop table if exists exp;\n",
    "create table exp as\n",
    "select *\n",
    "from\n",
    "(select *, duns_nbr_consignee::bigint as duns_number_bol from billoflading_all \n",
    "WHERE duns_nbr_consignee != '' AND duns_nbr_consignee IS NOT NULL\n",
    ") as bol\n",
    "left outer join \n",
    "(select consignee_d_b_duns_number::bigint as duns_number_db, \n",
    "consignee_d_b_duns_number,\n",
    "consignee_d_b_business_name,\n",
    "consignee_d_b_global_ultimate_duns_number, \n",
    "consignee_d_b_global_ultimate_business_name\n",
    "from children_db_profiles) as children\n",
    "on (bol.duns_number_bol = children.duns_number_db);\n",
    "\"\"\")\n",
    "conn.commit()"
   ]
  },
  {
   "cell_type": "code",
   "execution_count": 65,
   "metadata": {
    "collapsed": true
   },
   "outputs": [],
   "source": [
    "cur.execute(\"\"\"\n",
    "COPY exp to\n",
    "    '/home/ram22/dataDrive/dataProjects/postgresql/tempOutput/exp.csv'\n",
    "    WITH CSV HEADER;\n",
    "\"\"\")\n",
    "!cp '/home/ram22/dataDrive/dataProjects/postgresql/tempOutput/exp.csv' '../02_dataCreated/'\n",
    "# Note: '790451231' is a Mitsubishi Forklift... in USA. It's global ultimate is '690539887', which is \n",
    "# MITSUBISHI NICHIYU FORKLIFT CO.,LTD. but that appears as it's own global ultimate. ie it never ties to our mitsu"
   ]
  },
  {
   "cell_type": "code",
   "execution_count": 66,
   "metadata": {
    "collapsed": true
   },
   "outputs": [],
   "source": [
    "conn.commit()\n",
    "conn.close()"
   ]
  },
  {
   "cell_type": "code",
   "execution_count": 67,
   "metadata": {},
   "outputs": [
    {
     "name": "stdout",
     "output_type": "stream",
     "text": [
      "31\n"
     ]
    }
   ],
   "source": [
    "# Global ultimates which identify what we want\n",
    "global_ultimates = [217304393, # BAE SYSTEMS PLC \n",
    "                    778557603, # CENTRICA PLC\n",
    "                    790428754, # Chobani, LLC\n",
    "                    305422255, # DONG Energy Power A/S\n",
    "                    1315704, # E. I. Du Pont De Nemours and Company\n",
    "                    12430880, # Herny Schein, Inc.\n",
    "                    544957314, # Huawei Investment and Holding Co., Ltd.\n",
    "                    671584550, # INDORAMA VENTURES PUBLIC COMPANY LIMITED\n",
    "                    81466849, # Microsoft Corportation\n",
    "                    690546460, # MITSUBISHI CORPORATION\n",
    "                    480708874, # Nestle S.A.\n",
    "                    6988414, # Newmont Mining Corporation\n",
    "                    50957364, # Nike, Inc.\n",
    "                    485609796, # Novartis AG\n",
    "                    489840363, # Qiagen N.V.\n",
    "                    144356508, # Qualcomm Incorporated\n",
    "                    480008226, # Roche Holding AG\n",
    "                    3296175, # The Coca-Cola Company\n",
    "                    210300901, # UNILEVER PLC\n",
    "                    289936783, # VODAFONE GROUP PLC\n",
    "                    51957769, # Wal-Mart Stores, Inc.\n",
    "                    387451045, # Louis Dreyfus Holding B.V.\n",
    "                    79942718, # Alphabet, Inc.\n",
    "                    60902413, # Google Inc.\n",
    "                    461026429, # IBERDROLA, SOCIEDAD ANONIMA\n",
    "                    238980408] #GLAXOSMITHKLINE PLC\n",
    "domestic_ultimates = [366470602] # CONSOLIDATED CONTRACTORS INTERNATIONAL COMPANY S A L; 315275255 PUMA SE at this level only points at itself\n",
    "headquarters = [315275255, 402491757, 794661801] # Puma SE; Heineken N.V.; Nespresso Usa, Inc.; 654292358 for Huawei Techonologies Co. Ltd.\n",
    "entities = [862932619] # Bajaj Auto Corporation\n",
    "# These make 31\n",
    "print(len(global_ultimates) + len(domestic_ultimates) + len(headquarters) + len(entities))\n",
    "# Not looked for: Klockner & Co, F. Hoffmann-La Roche Limited; Royal Philips; Reuters Market Light, India; Nykredit AS; Northwell Health; Dogan Broadcasting\n",
    "# Not found: Mumm, Dignity Health , VTB Bank\n",
    "# Problem with ROCHE\n",
    "# Those are 11 (not double counting ROCHE). Plus 31 = 42. But I added Alphabet in global_ultimates."
   ]
  },
  {
   "cell_type": "code",
   "execution_count": 68,
   "metadata": {},
   "outputs": [
    {
     "name": "stderr",
     "output_type": "stream",
     "text": [
      "/home/ram22/anaconda3/lib/python3.6/site-packages/IPython/core/interactiveshell.py:2683: DtypeWarning: Columns (14,37) have mixed types. Specify dtype option on import or set low_memory=False.\n",
      "  interactivity=interactivity, compiler=compiler, result=result)\n"
     ]
    }
   ],
   "source": [
    "relevantBoL = pd.read_csv('../02_dataCreated/relevantBoL.csv')\n",
    "\n",
    "targetDBprofiles = pd.read_csv('../02_dataCreated/targetDBprofiles.csv')\n",
    "targetDBprofiles.columns = ['consignee_d_b_' + i for i in targetDBprofiles.columns]\n",
    "\n",
    "temp = relevantBoL.copy()"
   ]
  },
  {
   "cell_type": "code",
   "execution_count": 69,
   "metadata": {},
   "outputs": [
    {
     "name": "stderr",
     "output_type": "stream",
     "text": [
      "/home/ram22/anaconda3/lib/python3.6/site-packages/ipykernel_launcher.py:1: SettingWithCopyWarning: \n",
      "A value is trying to be set on a copy of a slice from a DataFrame\n",
      "\n",
      "See the caveats in the documentation: http://pandas.pydata.org/pandas-docs/stable/indexing.html#indexing-view-versus-copy\n",
      "  \"\"\"Entry point for launching an IPython kernel.\n",
      "/home/ram22/anaconda3/lib/python3.6/site-packages/ipykernel_launcher.py:3: SettingWithCopyWarning: \n",
      "A value is trying to be set on a copy of a slice from a DataFrame\n",
      "\n",
      "See the caveats in the documentation: http://pandas.pydata.org/pandas-docs/stable/indexing.html#indexing-view-versus-copy\n",
      "  This is separate from the ipykernel package so we can avoid doing imports until\n",
      "/home/ram22/anaconda3/lib/python3.6/site-packages/ipykernel_launcher.py:5: SettingWithCopyWarning: \n",
      "A value is trying to be set on a copy of a slice from a DataFrame\n",
      "\n",
      "See the caveats in the documentation: http://pandas.pydata.org/pandas-docs/stable/indexing.html#indexing-view-versus-copy\n",
      "  \"\"\"\n"
     ]
    }
   ],
   "source": [
    "temp['consignee_d_b_business_name'][relevantBoL['consignee_d_b_global_ultimate_duns_number'].isin(global_ultimates)] = \\\n",
    "    relevantBoL['consignee_d_b_global_ultimate_business_name'][relevantBoL['consignee_d_b_global_ultimate_duns_number'].isin(global_ultimates)]\n",
    "    \n",
    "temp['consignee_d_b_business_name'][relevantBoL['consignee_d_b_domestic_ultimate_duns_number'].isin(domestic_ultimates)] = \\\n",
    "    relevantBoL['consignee_d_b_domestic_ultimate_business_name'][relevantBoL['consignee_d_b_domestic_ultimate_duns_number'].isin(domestic_ultimates)]\n",
    "    \n",
    "temp['consignee_d_b_business_name'][relevantBoL['consignee_d_b_headquarter_duns_number'].isin(headquarters)] = \\\n",
    "    relevantBoL['consignee_d_b_headquarter_parent_business_name'][relevantBoL['consignee_d_b_headquarter_duns_number'].isin(headquarters)]\n"
   ]
  },
  {
   "cell_type": "code",
   "execution_count": 70,
   "metadata": {
    "collapsed": true
   },
   "outputs": [],
   "source": [
    "temp['consignee_d_b_business_name'] = temp['consignee_d_b_business_name'].str.upper()\n",
    "targetDBprofiles['consignee_d_b_business_name'] = targetDBprofiles['consignee_d_b_business_name'].str.upper()"
   ]
  },
  {
   "cell_type": "code",
   "execution_count": 71,
   "metadata": {
    "collapsed": true
   },
   "outputs": [],
   "source": [
    "temp = temp.merge(targetDBprofiles.drop(['consignee_d_b_duns_number',\n",
    "    'consignee_d_b_headquarter_duns_number', \n",
    "    'consignee_d_b_headquarter_parent_business_name',\n",
    "    'consignee_d_b_domestic_ultimate_duns_number', \n",
    "    'consignee_d_b_domestic_ultimate_business_name',\n",
    "    'consignee_d_b_global_ultimate_duns_number', \n",
    "    'consignee_d_b_global_ultimate_business_name'], axis=1),\n",
    "    how='left', \n",
    "    left_on='consignee_d_b_business_name', right_on='consignee_d_b_business_name',\n",
    "    indicator=True)"
   ]
  },
  {
   "cell_type": "code",
   "execution_count": 72,
   "metadata": {
    "collapsed": true
   },
   "outputs": [],
   "source": [
    "##########################################################################\n",
    "temp = temp[temp['consignee_d_b_business_name'] != str.upper('Nestl? S.A.')]\n",
    "################################################################################"
   ]
  },
  {
   "cell_type": "code",
   "execution_count": 73,
   "metadata": {
    "collapsed": true
   },
   "outputs": [],
   "source": [
    "temp.to_csv('../02_dataCreated/newData.csv', index=False)"
   ]
  },
  {
   "cell_type": "code",
   "execution_count": 74,
   "metadata": {},
   "outputs": [
    {
     "data": {
      "text/plain": [
       "MITSUBISHI CORPORATION                      39421\n",
       "NESTLÉ S.A.                                 19034\n",
       "WAL-MART STORES, INC.                        9638\n",
       "E. I. DU PONT DE NEMOURS AND COMPANY         7655\n",
       "PUMA SE                                      5492\n",
       "MICROSOFT CORPORATION                        4201\n",
       "LOUIS DREYFUS HOLDING B.V.                   3085\n",
       "THE COCA-COLA COMPANY                        1934\n",
       "UNILEVER PLC                                 1273\n",
       "HENRY SCHEIN, INC.                           1019\n",
       "GLAXOSMITHKLINE PLC                           384\n",
       "INDORAMA VENTURES PUBLIC COMPANY LIMITED      271\n",
       "BAE SYSTEMS PLC                               226\n",
       "IBERDROLA, SOCIEDAD ANONIMA                   139\n",
       "NIKE, INC.                                     60\n",
       "QIAGEN N.V.                                    42\n",
       "NEWMONT MINING CORPORATION                     27\n",
       "NOVARTIS AG                                    20\n",
       "QUALCOMM INCORPORATED                           8\n",
       "Name: consignee_d_b_business_name, dtype: int64"
      ]
     },
     "execution_count": 74,
     "metadata": {},
     "output_type": "execute_result"
    }
   ],
   "source": [
    "temp.consignee_d_b_business_name.value_counts(dropna=False)"
   ]
  },
  {
   "cell_type": "code",
   "execution_count": 75,
   "metadata": {},
   "outputs": [
    {
     "data": {
      "text/plain": [
       "global ultimate    85213\n",
       "headquarter         5492\n",
       "Name: consignee_d_b_foundIn, dtype: int64"
      ]
     },
     "execution_count": 75,
     "metadata": {},
     "output_type": "execute_result"
    }
   ],
   "source": [
    "temp.consignee_d_b_foundIn.value_counts()"
   ]
  },
  {
   "cell_type": "code",
   "execution_count": 76,
   "metadata": {},
   "outputs": [
    {
     "data": {
      "text/plain": [
       "(93929, 217)"
      ]
     },
     "execution_count": 76,
     "metadata": {},
     "output_type": "execute_result"
    }
   ],
   "source": [
    "temp.shape"
   ]
  },
  {
   "cell_type": "code",
   "execution_count": 77,
   "metadata": {
    "collapsed": true
   },
   "outputs": [],
   "source": [
    "argh = temp.groupby(['consignee_d_b_business_name', 'consignee_declared'])"
   ]
  },
  {
   "cell_type": "code",
   "execution_count": 78,
   "metadata": {
    "collapsed": true
   },
   "outputs": [],
   "source": [
    "argh['consignee_declared'].count().to_csv('counts430.csv')"
   ]
  },
  {
   "cell_type": "code",
   "execution_count": null,
   "metadata": {
    "collapsed": true
   },
   "outputs": [],
   "source": []
  }
 ],
 "metadata": {
  "kernelspec": {
   "display_name": "Python 3",
   "language": "python",
   "name": "python3"
  },
  "language_info": {
   "codemirror_mode": {
    "name": "ipython",
    "version": 3
   },
   "file_extension": ".py",
   "mimetype": "text/x-python",
   "name": "python",
   "nbconvert_exporter": "python",
   "pygments_lexer": "ipython3",
   "version": "3.6.0"
  }
 },
 "nbformat": 4,
 "nbformat_minor": 2
}

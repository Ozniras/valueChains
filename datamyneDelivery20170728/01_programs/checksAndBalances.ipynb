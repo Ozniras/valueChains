{
 "cells": [
  {
   "cell_type": "code",
   "execution_count": 1,
   "metadata": {
    "collapsed": true
   },
   "outputs": [],
   "source": [
    "import pandas as pd\n",
    "import numpy as np\n",
    "import requests\n",
    "import re"
   ]
  },
  {
   "cell_type": "code",
   "execution_count": 2,
   "metadata": {
    "scrolled": true
   },
   "outputs": [
    {
     "name": "stderr",
     "output_type": "stream",
     "text": [
      "/home/ram22/anaconda3/lib/python3.5/site-packages/IPython/core/interactiveshell.py:2717: DtypeWarning: Columns (14,37) have mixed types. Specify dtype option on import or set low_memory=False.\n",
      "  interactivity=interactivity, compiler=compiler, result=result)\n"
     ]
    }
   ],
   "source": [
    "df = pd.read_csv('../02_dataCreated/newData20170811.csv')"
   ]
  },
  {
   "cell_type": "code",
   "execution_count": 3,
   "metadata": {
    "collapsed": true
   },
   "outputs": [],
   "source": [
    "df.loc[df['country_of_origin'].isnull(), 'country_of_origin'] = 'MISSING'\n",
    "df.loc[df['shipper_declared'] == 'NOT DECLARED', 'shipper_unified_id'] = np.nan\n",
    "df.loc[df['calc_value_usd'] == 0, 'calc_value_usd'] = np.nan \n",
    "df.loc[df['calc_weight_kg'] == 0, 'calc_weight_kg'] = np.nan \n",
    "\n",
    "df['consignee_comp_size_desc'] = 'Large'\n",
    "df.loc[df['consignee_d_b_employees_total'] < 100, 'consignee_comp_size_desc'] = 'Medium'\n",
    "df.loc[df['consignee_d_b_employees_total'] < 19, 'consignee_comp_size_desc'] = 'Small'\n",
    "\n",
    "df['consignee_comp_size_code'] = 4\n",
    "df.loc[df['consignee_d_b_employees_total'] < 100, 'consignee_comp_size_code'] = 3\n",
    "df.loc[df['consignee_d_b_employees_total'] < 19, 'consignee_comp_size_code'] = 2\n"
   ]
  },
  {
   "cell_type": "code",
   "execution_count": 4,
   "metadata": {
    "collapsed": true
   },
   "outputs": [],
   "source": [
    "listCia = list(df.consignee_d_b_business_name.value_counts(dropna=False).index)"
   ]
  },
  {
   "cell_type": "code",
   "execution_count": 5,
   "metadata": {
    "collapsed": true
   },
   "outputs": [],
   "source": [
    "naicsTOisic = pd.read_csv('../02_dataCreated/naics_to_isic.csv')\n",
    "df = df.drop('_merge', axis=1).merge(\n",
    "    naicsTOisic, how='left',\n",
    "    left_on='consignee_d_b_primary_naics_1_1_code',\n",
    "    right_on='naics_2012',\n",
    "    indicator=True)"
   ]
  },
  {
   "cell_type": "code",
   "execution_count": 6,
   "metadata": {},
   "outputs": [
    {
     "name": "stdout",
     "output_type": "stream",
     "text": [
      "both          30327\n",
      "left_only       220\n",
      "right_only        0\n",
      "Name: _merge, dtype: int64\n",
      "Louis Dreyfus Holding B.V.     219\n",
      "IBERDROLA, SOCIEDAD ANONIMA      1\n",
      "Name: consignee_d_b_business_name, dtype: int64\n"
     ]
    }
   ],
   "source": [
    "print(df._merge.value_counts())\n",
    "print(df.consignee_d_b_business_name[df._merge == 'left_only'].value_counts())"
   ]
  },
  {
   "cell_type": "code",
   "execution_count": 7,
   "metadata": {
    "collapsed": true
   },
   "outputs": [],
   "source": [
    "fields = [('consignee_d_b_city_name', 'cityName'),\n",
    "          ('consignee_d_b_year_started', 'dateEstablished'), \n",
    "          ('consignee_d_b_country_name', 'countryName'),\n",
    "          ('consignee_d_b_primary_naics_1_1_code', 'primaryNAICS'),\n",
    "          ('consignee_d_b_primary_naics_1_1_description', 'primaryNAICSDescription'),\n",
    "          ('consignee_d_b_sales_volume_us_dollars', 'salesVolume'),\n",
    "          ('consignee_d_b_employees_total', 'sizeOfOrganization'),\n",
    "          ('consignee_d_b_latitude', 'latitude'),\n",
    "          ('consignee_d_b_longitude', 'longitude'),\n",
    "          ('consignee_d_b_state_province_name', 'stateProvinceName'),\n",
    "          ('consignee_d_b_street_address', 'streetAddress'),\n",
    "          ('isic_rev4_2dig', 'industryISICCategory'),\n",
    "          ('consignee_d_b_url_domain_name_1', 'url'),\n",
    "          ('consignee_comp_size_desc', 'sizeOfOrganizationType'),\n",
    "          ('consignee_comp_size_code', 'sizeOfOrganizationTypeDropDownListId'),\n",
    "          ('import_upstream', 'importsUpstreamness'),\n",
    "          ('gap_upstream', 'gapUpstreamness')]"
   ]
  },
  {
   "cell_type": "code",
   "execution_count": 8,
   "metadata": {
    "collapsed": true
   },
   "outputs": [],
   "source": [
    "upstrDF = pd.read_csv('../02_dataCreated/HS2_upstreamness.csv')\n",
    "upstrDict = dict(zip(upstrDF['hs2'], upstrDF['upstreamness']))\n",
    "\n",
    "hsRaw = df['hs_code'].copy(deep=True)\n",
    "hsRaw = hsRaw.apply(lambda x: list(re.split(r'\\s*,\\s*',\n",
    "                 x.replace('-', ',').replace(\n",
    "                     'nov', '11').replace('ago', '08').replace('ND', '00').replace('EC', '00')))) \n",
    "upstream = []\n",
    "upweightsNum = []\n",
    "upweightsDen = []\n",
    "for i in hsRaw:\n",
    "    holderCode = []\n",
    "    for j in i:\n",
    "        if int(j) in upstrDict: \n",
    "            holderCode.append(upstrDict[int(j)])\n",
    "        else:\n",
    "            holderCode.append(np.nan)\n",
    "    upstream.append(np.array(holderCode))\n",
    "    upweightsNum.append(len(holderCode))\n",
    "    upweightsDen.append(len(holderCode) - np.isnan(holderCode).sum())\n",
    "upstream = pd.Series(upstream)\n",
    "upweightsNum = pd.Series(upweightsNum)\n",
    "upweightsDen = pd.Series(upweightsDen)\n",
    "\n",
    "df['numerator'] = upstream.multiply(df['calc_value_usd']).divide(upweightsNum).apply(sum) \n",
    "df['denominator'] = df['calc_value_usd'].multiply(upweightsDen).divide(upweightsNum) \n",
    "byCia = df[['calc_value_usd', 'numerator', 'denominator', 'consignee_d_b_business_name']].groupby('consignee_d_b_business_name')\n",
    "upstreamness = (byCia['numerator'].sum()) / (byCia['denominator'].sum())\n",
    "df = df.drop(['numerator', 'denominator', '_merge'], axis=1)\n",
    "\n",
    "df = df.merge(pd.DataFrame(upstreamness, columns=['import_upstream']).reset_index(), how='inner', left_on='consignee_d_b_business_name', right_on='consignee_d_b_business_name', indicator=True)\n",
    "\n",
    "df['gap_upstream'] = 'None'"
   ]
  },
  {
   "cell_type": "code",
   "execution_count": 9,
   "metadata": {
    "collapsed": true
   },
   "outputs": [],
   "source": [
    "def listCompare(varPair = None):\n",
    "    print()\n",
    "    print(varPair)\n",
    "    temp = cia[[varPair[0], 'country_of_origin']][cia[varPair[0]].notnull()]\n",
    "    byCountry = temp.groupby('country_of_origin')\n",
    "    if varPair[3] == sum:\n",
    "        countryList = byCountry[varPair[0]].apply(varPair[3])\n",
    "    else:\n",
    "        countryList = byCountry[varPair[0]].unique().apply(varPair[3])\n",
    "    if len(countryList) != len(ciaDict[each][varPair[1]]):\n",
    "        print('In API, not in mine:')\n",
    "        print(pd.Series(ciaDict[each][varPair[1]]).index.difference(pd.Series(countryList).index))\n",
    "        print('In mine, not in API:')\n",
    "        print(pd.Series(countryList).index.difference(pd.Series(ciaDict[each][varPair[1]]).index))\n",
    "\n",
    "    countryUnion = list(countryList.index.intersection(pd.Series(ciaDict[each][varPair[1]]).index))\n",
    "    countryDic = dict(countryList)\n",
    "    for country in countryUnion:\n",
    "        if round(countryDic[country], 2) != round(ciaDict[each][varPair[1]][country], 2):\n",
    "            print(country + ': ' + str(countryDic[country]) + ', ' + str(ciaDict[each][varPair[1]][country]))\n",
    "    print()\n",
    "    \n",
    "    if round(countryList.sum(), 2) != round(ciaDict[each][varPair[2]], 2):\n",
    "        print(varPair[0] + ': ' + str(countryList.sum()) + ', ' + str(ciaDict[each][varPair[2]]) + '\\n')"
   ]
  },
  {
   "cell_type": "code",
   "execution_count": 10,
   "metadata": {
    "collapsed": true
   },
   "outputs": [],
   "source": [
    "ciaApi = []\n",
    "url = 'http://staging-meshintelapi.herokuapp.com/organizations'\n",
    "ciaApi = requests.get(url).json()\n",
    "ciaDict = {}\n",
    "for item in ciaApi:\n",
    "    ciaDict[item['name']] = item"
   ]
  },
  {
   "cell_type": "code",
   "execution_count": 11,
   "metadata": {},
   "outputs": [
    {
     "name": "stdout",
     "output_type": "stream",
     "text": [
      "Nestlé S.A.\n",
      "KEY ERROR:  latitude; consignee_d_b_latitude = 0.0\n",
      "KEY ERROR:  longitude; consignee_d_b_longitude = 0.0\n",
      "import_upstream: 1.76281767793, importsUpstreamness: 1.48\n",
      "\n",
      "['shipper_unified_id', 'topCountriesSuppliedFromNumberOfSuppliers', 'numberOfSuppliers', <built-in function len>]\n",
      "\n",
      "\n",
      "['calc_value_usd', 'topCountriesSuppliedFromValue', 'totalValueBought', <built-in function sum>]\n",
      "\n",
      "\n",
      "['calc_weight_kg', 'topCountriesSuppliedFromVolume', 'volumeBought', <built-in function sum>]\n",
      "\n",
      "Wal-Mart Stores, Inc.\n",
      "import_upstream: 1.45020405014, importsUpstreamness: 1.37\n",
      "\n",
      "['shipper_unified_id', 'topCountriesSuppliedFromNumberOfSuppliers', 'numberOfSuppliers', <built-in function len>]\n",
      "\n",
      "\n",
      "['calc_value_usd', 'topCountriesSuppliedFromValue', 'totalValueBought', <built-in function sum>]\n",
      "\n",
      "\n",
      "['calc_weight_kg', 'topCountriesSuppliedFromVolume', 'volumeBought', <built-in function sum>]\n",
      "\n",
      "Microsoft Corporation\n",
      "import_upstream: 1.33896738049, importsUpstreamness: 1.14\n",
      "\n",
      "['shipper_unified_id', 'topCountriesSuppliedFromNumberOfSuppliers', 'numberOfSuppliers', <built-in function len>]\n",
      "\n",
      "\n",
      "['calc_value_usd', 'topCountriesSuppliedFromValue', 'totalValueBought', <built-in function sum>]\n",
      "\n",
      "\n",
      "['calc_weight_kg', 'topCountriesSuppliedFromVolume', 'volumeBought', <built-in function sum>]\n",
      "\n",
      "PUMA SE\n",
      "KEY ERROR:  url; consignee_d_b_url_domain_name_1 = nan\n",
      "import_upstream: 1.12621853725, importsUpstreamness: 1.09\n",
      "\n",
      "['shipper_unified_id', 'topCountriesSuppliedFromNumberOfSuppliers', 'numberOfSuppliers', <built-in function len>]\n",
      "\n",
      "\n",
      "['calc_value_usd', 'topCountriesSuppliedFromValue', 'totalValueBought', <built-in function sum>]\n",
      "\n",
      "\n",
      "['calc_weight_kg', 'topCountriesSuppliedFromVolume', 'volumeBought', <built-in function sum>]\n",
      "\n",
      "E. I. Du Pont De Nemours and Company\n",
      "import_upstream: 3.05866664081, importsUpstreamness: 3.13\n",
      "\n",
      "['shipper_unified_id', 'topCountriesSuppliedFromNumberOfSuppliers', 'numberOfSuppliers', <built-in function len>]\n",
      "\n",
      "\n",
      "['calc_value_usd', 'topCountriesSuppliedFromValue', 'totalValueBought', <built-in function sum>]\n",
      "\n",
      "\n",
      "['calc_weight_kg', 'topCountriesSuppliedFromVolume', 'volumeBought', <built-in function sum>]\n",
      "\n",
      "MITSUBISHI CORPORATION\n",
      "KEY ERROR:  latitude; consignee_d_b_latitude = 0.0\n",
      "KEY ERROR:  longitude; consignee_d_b_longitude = 0.0\n",
      "import_upstream: 2.38068390633, importsUpstreamness: 2.57\n",
      "\n",
      "['shipper_unified_id', 'topCountriesSuppliedFromNumberOfSuppliers', 'numberOfSuppliers', <built-in function len>]\n",
      "\n",
      "\n",
      "['calc_value_usd', 'topCountriesSuppliedFromValue', 'totalValueBought', <built-in function sum>]\n",
      "\n",
      "\n",
      "['calc_weight_kg', 'topCountriesSuppliedFromVolume', 'volumeBought', <built-in function sum>]\n",
      "\n",
      "Henry Schein, Inc.\n",
      "consignee_d_b_longitude: -73.417634, longitude: -73.417634\n",
      "import_upstream: 1.84331667004, importsUpstreamness: 1.57\n",
      "\n",
      "['shipper_unified_id', 'topCountriesSuppliedFromNumberOfSuppliers', 'numberOfSuppliers', <built-in function len>]\n",
      "\n",
      "\n",
      "['calc_value_usd', 'topCountriesSuppliedFromValue', 'totalValueBought', <built-in function sum>]\n",
      "\n",
      "\n",
      "['calc_weight_kg', 'topCountriesSuppliedFromVolume', 'volumeBought', <built-in function sum>]\n",
      "\n",
      "The Coca-Cola Company\n",
      "consignee_d_b_longitude: -84.397331, longitude: -84.397331\n",
      "import_upstream: 1.94084170337, importsUpstreamness: 2.6\n",
      "\n",
      "['shipper_unified_id', 'topCountriesSuppliedFromNumberOfSuppliers', 'numberOfSuppliers', <built-in function len>]\n",
      "\n",
      "\n",
      "['calc_value_usd', 'topCountriesSuppliedFromValue', 'totalValueBought', <built-in function sum>]\n",
      "\n",
      "\n",
      "['calc_weight_kg', 'topCountriesSuppliedFromVolume', 'volumeBought', <built-in function sum>]\n",
      "\n",
      "Louis Dreyfus Holding B.V.\n",
      "KEY ERROR:  cityName; consignee_d_b_city_name = nan\n",
      "KEY ERROR:  dateEstablished; consignee_d_b_year_started = nan\n",
      "KEY ERROR:  countryName; consignee_d_b_country_name = nan\n",
      "KEY ERROR:  primaryNAICS; consignee_d_b_primary_naics_1_1_code = nan\n",
      "KEY ERROR:  primaryNAICSDescription; consignee_d_b_primary_naics_1_1_description = nan\n",
      "KEY ERROR:  salesVolume; consignee_d_b_sales_volume_us_dollars = nan\n",
      "KEY ERROR:  sizeOfOrganization; consignee_d_b_employees_total = nan\n",
      "consignee_d_b_latitude: nan, latitude: nan\n",
      "consignee_d_b_longitude: nan, longitude: nan\n",
      "KEY ERROR:  stateProvinceName; consignee_d_b_state_province_name = nan\n",
      "KEY ERROR:  streetAddress; consignee_d_b_street_address = nan\n",
      "KEY ERROR:  industryISICCategory; isic_rev4_2dig = nan\n",
      "KEY ERROR:  url; consignee_d_b_url_domain_name_1 = nan\n",
      "KEY ERROR:  sizeOfOrganizationType; consignee_comp_size_desc = Large\n",
      "KEY ERROR:  sizeOfOrganizationTypeDropDownListId; consignee_comp_size_code = 4\n",
      "import_upstream: 1.52535823885, importsUpstreamness: 1.55\n",
      "\n",
      "['shipper_unified_id', 'topCountriesSuppliedFromNumberOfSuppliers', 'numberOfSuppliers', <built-in function len>]\n",
      "\n",
      "\n",
      "['calc_value_usd', 'topCountriesSuppliedFromValue', 'totalValueBought', <built-in function sum>]\n",
      "\n",
      "\n",
      "['calc_weight_kg', 'topCountriesSuppliedFromVolume', 'volumeBought', <built-in function sum>]\n",
      "\n",
      "BAE SYSTEMS PLC\n",
      "import_upstream: 1.67535099127, importsUpstreamness: 1.59\n",
      "\n",
      "['shipper_unified_id', 'topCountriesSuppliedFromNumberOfSuppliers', 'numberOfSuppliers', <built-in function len>]\n",
      "\n",
      "\n",
      "['calc_value_usd', 'topCountriesSuppliedFromValue', 'totalValueBought', <built-in function sum>]\n",
      "\n",
      "\n",
      "['calc_weight_kg', 'topCountriesSuppliedFromVolume', 'volumeBought', <built-in function sum>]\n",
      "\n",
      "Nike, Inc.\n",
      "import_upstream: 1.28764564718, importsUpstreamness: 1.25\n",
      "\n",
      "['shipper_unified_id', 'topCountriesSuppliedFromNumberOfSuppliers', 'numberOfSuppliers', <built-in function len>]\n",
      "\n",
      "\n",
      "['calc_value_usd', 'topCountriesSuppliedFromValue', 'totalValueBought', <built-in function sum>]\n",
      "\n",
      "\n",
      "['calc_weight_kg', 'topCountriesSuppliedFromVolume', 'volumeBought', <built-in function sum>]\n",
      "\n",
      "Newmont Mining Corporation\n",
      "consignee_d_b_longitude: -104.891239, longitude: -104.891239\n",
      "import_upstream: 1.75905365765, importsUpstreamness: 1.79\n",
      "\n",
      "['shipper_unified_id', 'topCountriesSuppliedFromNumberOfSuppliers', 'numberOfSuppliers', <built-in function len>]\n",
      "\n",
      "\n",
      "['calc_value_usd', 'topCountriesSuppliedFromValue', 'totalValueBought', <built-in function sum>]\n",
      "\n",
      "\n",
      "['calc_weight_kg', 'topCountriesSuppliedFromVolume', 'volumeBought', <built-in function sum>]\n",
      "\n",
      "Qiagen N.V.\n",
      "KEY ERROR:  url; consignee_d_b_url_domain_name_1 = nan\n",
      "KEY ERROR:  importsUpstreamness; import_upstream = nan\n",
      "\n",
      "['shipper_unified_id', 'topCountriesSuppliedFromNumberOfSuppliers', 'numberOfSuppliers', <built-in function len>]\n",
      "\n",
      "\n",
      "['calc_value_usd', 'topCountriesSuppliedFromValue', 'totalValueBought', <built-in function sum>]\n",
      "\n",
      "\n",
      "['calc_weight_kg', 'topCountriesSuppliedFromVolume', 'volumeBought', <built-in function sum>]\n",
      "\n",
      "UNILEVER PLC\n",
      "import_upstream: 1.802638, importsUpstreamness: 1.69\n",
      "\n",
      "['shipper_unified_id', 'topCountriesSuppliedFromNumberOfSuppliers', 'numberOfSuppliers', <built-in function len>]\n",
      "\n",
      "\n",
      "['calc_value_usd', 'topCountriesSuppliedFromValue', 'totalValueBought', <built-in function sum>]\n",
      "\n",
      "\n",
      "['calc_weight_kg', 'topCountriesSuppliedFromVolume', 'volumeBought', <built-in function sum>]\n",
      "\n",
      "Qualcomm Incorporated\n",
      "import_upstream: 2.009634, importsUpstreamness: 1.59\n",
      "\n",
      "['shipper_unified_id', 'topCountriesSuppliedFromNumberOfSuppliers', 'numberOfSuppliers', <built-in function len>]\n",
      "\n",
      "\n",
      "['calc_value_usd', 'topCountriesSuppliedFromValue', 'totalValueBought', <built-in function sum>]\n",
      "\n",
      "\n",
      "['calc_weight_kg', 'topCountriesSuppliedFromVolume', 'volumeBought', <built-in function sum>]\n",
      "\n",
      "IBERDROLA, SOCIEDAD ANONIMA\n",
      "KEY ERROR:  cityName; consignee_d_b_city_name = nan\n",
      "KEY ERROR:  dateEstablished; consignee_d_b_year_started = nan\n",
      "KEY ERROR:  countryName; consignee_d_b_country_name = nan\n",
      "KEY ERROR:  primaryNAICS; consignee_d_b_primary_naics_1_1_code = nan\n",
      "KEY ERROR:  primaryNAICSDescription; consignee_d_b_primary_naics_1_1_description = nan\n",
      "KEY ERROR:  salesVolume; consignee_d_b_sales_volume_us_dollars = nan\n",
      "KEY ERROR:  sizeOfOrganization; consignee_d_b_employees_total = nan\n",
      "consignee_d_b_latitude: nan, latitude: nan\n",
      "consignee_d_b_longitude: nan, longitude: nan\n",
      "KEY ERROR:  stateProvinceName; consignee_d_b_state_province_name = nan\n",
      "KEY ERROR:  streetAddress; consignee_d_b_street_address = nan\n",
      "KEY ERROR:  industryISICCategory; isic_rev4_2dig = nan\n",
      "KEY ERROR:  url; consignee_d_b_url_domain_name_1 = nan\n",
      "KEY ERROR:  sizeOfOrganizationType; consignee_comp_size_desc = Large\n",
      "KEY ERROR:  sizeOfOrganizationTypeDropDownListId; consignee_comp_size_code = 4\n",
      "import_upstream: 1.644184, importsUpstreamness: 2.71\n",
      "\n",
      "['shipper_unified_id', 'topCountriesSuppliedFromNumberOfSuppliers', 'numberOfSuppliers', <built-in function len>]\n",
      "\n",
      "\n",
      "['calc_value_usd', 'topCountriesSuppliedFromValue', 'totalValueBought', <built-in function sum>]\n",
      "\n",
      "\n",
      "['calc_weight_kg', 'topCountriesSuppliedFromVolume', 'volumeBought', <built-in function sum>]\n",
      "\n"
     ]
    }
   ],
   "source": [
    "for each in listCia:\n",
    "   \n",
    "    cia = df[df['consignee_d_b_business_name'] == each]\n",
    "    \n",
    "    print(each)\n",
    "    for f in fields:\n",
    "        try:\n",
    "            if (cia[f[0]].unique()[0] != ciaDict[each][f[1]]):\n",
    "                try: \n",
    "                    if cia[f[0]].unique()[0] != float(ciaDict[each][f[1]]):\n",
    "                        print(f[0] + ': ' + str(cia[f[0]].unique()[0]) + ', ' + f[1] + ': ' + str(ciaDict[each][f[1]]))\n",
    "                except ValueError:\n",
    "                    if cia[f[0]].unique()[0] != ciaDict[each][f[1]]:\n",
    "                        print(f[0] + ': ' + str(cia[f[0]].unique()[0]) + ', ' + f[1] + ': ' + str(ciaDict[each][f[1]]))\n",
    "        except KeyError:\n",
    "            print('KEY ERROR: ', f[1] + '; ' + f[0] + ' = ' + str(cia[f[0]].unique()[0]))\n",
    "    # Total over countries\n",
    "    #temp = cia[['shipper_unified_id', 'country_of_origin']][cia.shipper_unified_id.notnull()]\n",
    "    #print(len(temp['shipper_unified_id'].unique()))  \n",
    "\n",
    "    listCompare(['shipper_unified_id', 'topCountriesSuppliedFromNumberOfSuppliers', 'numberOfSuppliers', len])\n",
    "    listCompare(['calc_value_usd', 'topCountriesSuppliedFromValue', 'totalValueBought', sum])\n",
    "    listCompare(['calc_weight_kg', 'topCountriesSuppliedFromVolume', 'volumeBought', sum])\n",
    "\n"
   ]
  },
  {
   "cell_type": "code",
   "execution_count": 50,
   "metadata": {
    "collapsed": true
   },
   "outputs": [],
   "source": [
    " f = {'import_upstream':['min', 'max', 'mean']}\n",
    "df[['import_upstream', 'consignee_d_b_business_name']].groupby('consignee_d_b_business_name').agg(f)"
   ]
  },
  {
   "cell_type": "code",
   "execution_count": 66,
   "metadata": {},
   "outputs": [
    {
     "data": {
      "text/html": [
       "<div>\n",
       "<table border=\"1\" class=\"dataframe\">\n",
       "  <thead>\n",
       "    <tr style=\"text-align: right;\">\n",
       "      <th></th>\n",
       "      <th>import_upstream</th>\n",
       "      <th>consignee_d_b_business_name</th>\n",
       "    </tr>\n",
       "  </thead>\n",
       "  <tbody>\n",
       "    <tr>\n",
       "      <th>0</th>\n",
       "      <td>1.450204</td>\n",
       "      <td>Wal-Mart Stores, Inc.</td>\n",
       "    </tr>\n",
       "    <tr>\n",
       "      <th>8934</th>\n",
       "      <td>1.762818</td>\n",
       "      <td>Nestlé S.A.</td>\n",
       "    </tr>\n",
       "    <tr>\n",
       "      <th>19843</th>\n",
       "      <td>1.843317</td>\n",
       "      <td>Henry Schein, Inc.</td>\n",
       "    </tr>\n",
       "    <tr>\n",
       "      <th>20667</th>\n",
       "      <td>1.126219</td>\n",
       "      <td>PUMA SE</td>\n",
       "    </tr>\n",
       "    <tr>\n",
       "      <th>22662</th>\n",
       "      <td>1.338967</td>\n",
       "      <td>Microsoft Corporation</td>\n",
       "    </tr>\n",
       "    <tr>\n",
       "      <th>26548</th>\n",
       "      <td>2.380684</td>\n",
       "      <td>MITSUBISHI CORPORATION</td>\n",
       "    </tr>\n",
       "    <tr>\n",
       "      <th>27878</th>\n",
       "      <td>3.058667</td>\n",
       "      <td>E. I. Du Pont De Nemours and Company</td>\n",
       "    </tr>\n",
       "    <tr>\n",
       "      <th>29403</th>\n",
       "      <td>1.940842</td>\n",
       "      <td>The Coca-Cola Company</td>\n",
       "    </tr>\n",
       "    <tr>\n",
       "      <th>30203</th>\n",
       "      <td>1.287646</td>\n",
       "      <td>Nike, Inc.</td>\n",
       "    </tr>\n",
       "    <tr>\n",
       "      <th>30246</th>\n",
       "      <td>1.759054</td>\n",
       "      <td>Newmont Mining Corporation</td>\n",
       "    </tr>\n",
       "    <tr>\n",
       "      <th>30256</th>\n",
       "      <td>1.675351</td>\n",
       "      <td>BAE SYSTEMS PLC</td>\n",
       "    </tr>\n",
       "    <tr>\n",
       "      <th>30321</th>\n",
       "      <td>1.525358</td>\n",
       "      <td>Louis Dreyfus Holding B.V.</td>\n",
       "    </tr>\n",
       "    <tr>\n",
       "      <th>30540</th>\n",
       "      <td>1.802638</td>\n",
       "      <td>UNILEVER PLC</td>\n",
       "    </tr>\n",
       "    <tr>\n",
       "      <th>30541</th>\n",
       "      <td>NaN</td>\n",
       "      <td>Qiagen N.V.</td>\n",
       "    </tr>\n",
       "    <tr>\n",
       "      <th>30545</th>\n",
       "      <td>2.009634</td>\n",
       "      <td>Qualcomm Incorporated</td>\n",
       "    </tr>\n",
       "    <tr>\n",
       "      <th>30546</th>\n",
       "      <td>1.644184</td>\n",
       "      <td>IBERDROLA, SOCIEDAD ANONIMA</td>\n",
       "    </tr>\n",
       "  </tbody>\n",
       "</table>\n",
       "</div>"
      ],
      "text/plain": [
       "       import_upstream           consignee_d_b_business_name\n",
       "0             1.450204                 Wal-Mart Stores, Inc.\n",
       "8934          1.762818                           Nestlé S.A.\n",
       "19843         1.843317                    Henry Schein, Inc.\n",
       "20667         1.126219                               PUMA SE\n",
       "22662         1.338967                 Microsoft Corporation\n",
       "26548         2.380684                MITSUBISHI CORPORATION\n",
       "27878         3.058667  E. I. Du Pont De Nemours and Company\n",
       "29403         1.940842                 The Coca-Cola Company\n",
       "30203         1.287646                            Nike, Inc.\n",
       "30246         1.759054            Newmont Mining Corporation\n",
       "30256         1.675351                       BAE SYSTEMS PLC\n",
       "30321         1.525358            Louis Dreyfus Holding B.V.\n",
       "30540         1.802638                          UNILEVER PLC\n",
       "30541              NaN                           Qiagen N.V.\n",
       "30545         2.009634                 Qualcomm Incorporated\n",
       "30546         1.644184           IBERDROLA, SOCIEDAD ANONIMA"
      ]
     },
     "execution_count": 66,
     "metadata": {},
     "output_type": "execute_result"
    }
   ],
   "source": [
    "df[['import_upstream', 'consignee_d_b_business_name']].drop_duplicates()\n"
   ]
  },
  {
   "cell_type": "code",
   "execution_count": 52,
   "metadata": {},
   "outputs": [
    {
     "data": {
      "text/plain": [
       "(30547, 368)"
      ]
     },
     "execution_count": 52,
     "metadata": {},
     "output_type": "execute_result"
    }
   ],
   "source": [
    "df.shape"
   ]
  },
  {
   "cell_type": "code",
   "execution_count": 29,
   "metadata": {},
   "outputs": [
    {
     "data": {
      "text/plain": [
       "['Nestlé S.A.',\n",
       " 'Wal-Mart Stores, Inc.',\n",
       " 'Microsoft Corporation',\n",
       " 'PUMA SE',\n",
       " 'E. I. Du Pont De Nemours and Company',\n",
       " 'MITSUBISHI CORPORATION',\n",
       " 'Henry Schein, Inc.',\n",
       " 'The Coca-Cola Company',\n",
       " 'Louis Dreyfus Holding B.V.',\n",
       " 'BAE SYSTEMS PLC',\n",
       " 'Nike, Inc.',\n",
       " 'Newmont Mining Corporation',\n",
       " 'Qiagen N.V.',\n",
       " 'UNILEVER PLC',\n",
       " 'Qualcomm Incorporated',\n",
       " 'IBERDROLA, SOCIEDAD ANONIMA']"
      ]
     },
     "execution_count": 29,
     "metadata": {},
     "output_type": "execute_result"
    }
   ],
   "source": [
    "listCia"
   ]
  },
  {
   "cell_type": "code",
   "execution_count": 85,
   "metadata": {
    "collapsed": true
   },
   "outputs": [],
   "source": [
    "def print_full(x):\n",
    "    pd.set_option('display.max_rows', len(x))\n",
    "    print(list(x))\n",
    "    pd.reset_option('display.max_rows')"
   ]
  },
  {
   "cell_type": "code",
   "execution_count": 106,
   "metadata": {},
   "outputs": [
    {
     "data": {
      "text/plain": [
       "count    30543.000000\n",
       "mean         1.671756\n",
       "std          0.414535\n",
       "min          1.126219\n",
       "25%          1.450204\n",
       "50%          1.762818\n",
       "75%          1.762818\n",
       "max          3.058667\n",
       "Name: import_upstream, dtype: float64"
      ]
     },
     "execution_count": 106,
     "metadata": {},
     "output_type": "execute_result"
    }
   ],
   "source": [
    "df['import_upstream'].describe()\n",
    "    "
   ]
  },
  {
   "cell_type": "code",
   "execution_count": 107,
   "metadata": {},
   "outputs": [
    {
     "data": {
      "text/plain": [
       "<pandas.core.groupby.DataFrameGroupBy object at 0x7f928e41ec88>"
      ]
     },
     "execution_count": 107,
     "metadata": {},
     "output_type": "execute_result"
    }
   ],
   "source": []
  },
  {
   "cell_type": "code",
   "execution_count": 170,
   "metadata": {},
   "outputs": [
    {
     "data": {
      "text/html": [
       "<div>\n",
       "<table border=\"1\" class=\"dataframe\">\n",
       "  <thead>\n",
       "    <tr style=\"text-align: right;\">\n",
       "      <th></th>\n",
       "      <th>import_upstream</th>\n",
       "      <th>up</th>\n",
       "    </tr>\n",
       "  </thead>\n",
       "  <tbody>\n",
       "    <tr>\n",
       "      <th>import_upstream</th>\n",
       "      <td>1.000000</td>\n",
       "      <td>0.744618</td>\n",
       "    </tr>\n",
       "    <tr>\n",
       "      <th>up</th>\n",
       "      <td>0.744618</td>\n",
       "      <td>1.000000</td>\n",
       "    </tr>\n",
       "  </tbody>\n",
       "</table>\n",
       "</div>"
      ],
      "text/plain": [
       "                 import_upstream        up\n",
       "import_upstream         1.000000  0.744618\n",
       "up                      0.744618  1.000000"
      ]
     },
     "execution_count": 170,
     "metadata": {},
     "output_type": "execute_result"
    }
   ],
   "source": [
    "testCorr = df[['import_upstream', 'consignee_d_b_business_name']].groupby('consignee_d_b_business_name').max()\n",
    "name = []\n",
    "up = []\n",
    "for i in ciaDict.keys():\n",
    "    try:\n",
    "        up.append(ciaDict[i]['importsUpstreamness'])\n",
    "        name.append(ciaDict[i]['name'])\n",
    "    except:\n",
    "        pass\n",
    "fromAPI = pd.DataFrame({'name':name, 'up':up})\n",
    "testCorr.merge(fromAPI, how='inner', left_index=True, right_on='name')[['import_upstream', 'up']].corr()"
   ]
  },
  {
   "cell_type": "code",
   "execution_count": 146,
   "metadata": {},
   "outputs": [
    {
     "data": {
      "text/plain": [
       "1945"
      ]
     },
     "execution_count": 146,
     "metadata": {},
     "output_type": "execute_result"
    }
   ],
   "source": [
    "name = []\n",
    "up = []\n",
    "ciaDict['Wal-Mart Stores, Inc.'].keys()\n",
    "#ciaDict['Wal-Mart Stores, Inc.']['name'] \n",
    "#ciaDict['Wal-Mart Stores, Inc.']['importsUpstreamness'] \n"
   ]
  },
  {
   "cell_type": "code",
   "execution_count": 148,
   "metadata": {},
   "outputs": [
    {
     "data": {
      "text/plain": [
       "23"
      ]
     },
     "execution_count": 148,
     "metadata": {},
     "output_type": "execute_result"
    }
   ],
   "source": [
    "len(ciaDict)"
   ]
  },
  {
   "cell_type": "code",
   "execution_count": 203,
   "metadata": {},
   "outputs": [
    {
     "name": "stdout",
     "output_type": "stream",
     "text": [
      "2\n",
      "0    2\n",
      "1    3\n",
      "2    4\n",
      "3    3\n",
      "4    7\n",
      "dtype: int64\n"
     ]
    }
   ],
   "source": [
    "test = df['hs_code'].copy(deep=True)\n",
    "test = test.apply(lambda x: list(re.split(r'\\s*,\\s*',\n",
    "                 x.replace('-', ',').replace(\n",
    "                     'nov', '11').replace('ago', '08').replace('ND', '00').replace('EC', '00')))) \n",
    "def fun(x):\n",
    "    hold = []\n",
    "    for i in x:\n",
    "        hold.append(len(str(i)))\n",
    "    return max(hold)\n",
    "\n",
    "maxLenHS = test.apply(fun)\n",
    "\"\"\"for i in zip(test.head(20), maxLenHS.head(20)):\n",
    "    print(i)\n",
    "\"\"\"\n",
    "print(maxLenHS.max())\n",
    "\n",
    "another = pd.Series([['08', '4', '10'], ['9', '100'], ['10', '20', '1000'], ['900'], [ '34', '1000000']])\n",
    "print(another.apply(fun))"
   ]
  },
  {
   "cell_type": "code",
   "execution_count": 228,
   "metadata": {},
   "outputs": [
    {
     "name": "stderr",
     "output_type": "stream",
     "text": [
      "/home/ram22/anaconda3/lib/python3.6/site-packages/ipykernel_launcher.py:1: FutureWarning: sort(columns=....) is deprecated, use sort_values(by=.....)\n",
      "  \"\"\"Entry point for launching an IPython kernel.\n"
     ]
    }
   ],
   "source": [
    "order = testCorr.merge(fromAPI, how='inner', left_index=True, right_on='name').sort('up')"
   ]
  },
  {
   "cell_type": "code",
   "execution_count": 230,
   "metadata": {},
   "outputs": [
    {
     "data": {
      "text/html": [
       "<div>\n",
       "<table border=\"1\" class=\"dataframe\">\n",
       "  <thead>\n",
       "    <tr style=\"text-align: right;\">\n",
       "      <th></th>\n",
       "      <th>import_upstream</th>\n",
       "      <th>name</th>\n",
       "      <th>up</th>\n",
       "    </tr>\n",
       "  </thead>\n",
       "  <tbody>\n",
       "    <tr>\n",
       "      <th>0</th>\n",
       "      <td>1.450204</td>\n",
       "      <td>Wal-Mart Stores, Inc.</td>\n",
       "      <td>0.53</td>\n",
       "    </tr>\n",
       "    <tr>\n",
       "      <th>1</th>\n",
       "      <td>1.126219</td>\n",
       "      <td>PUMA SE</td>\n",
       "      <td>1.09</td>\n",
       "    </tr>\n",
       "    <tr>\n",
       "      <th>2</th>\n",
       "      <td>1.338967</td>\n",
       "      <td>Microsoft Corporation</td>\n",
       "      <td>1.14</td>\n",
       "    </tr>\n",
       "    <tr>\n",
       "      <th>3</th>\n",
       "      <td>1.762818</td>\n",
       "      <td>Nestlé S.A.</td>\n",
       "      <td>1.17</td>\n",
       "    </tr>\n",
       "    <tr>\n",
       "      <th>4</th>\n",
       "      <td>1.287646</td>\n",
       "      <td>Nike, Inc.</td>\n",
       "      <td>1.25</td>\n",
       "    </tr>\n",
       "    <tr>\n",
       "      <th>5</th>\n",
       "      <td>1.525358</td>\n",
       "      <td>Louis Dreyfus Holding B.V.</td>\n",
       "      <td>1.28</td>\n",
       "    </tr>\n",
       "    <tr>\n",
       "      <th>6</th>\n",
       "      <td>1.843317</td>\n",
       "      <td>Henry Schein, Inc.</td>\n",
       "      <td>1.57</td>\n",
       "    </tr>\n",
       "    <tr>\n",
       "      <th>7</th>\n",
       "      <td>1.675351</td>\n",
       "      <td>BAE SYSTEMS PLC</td>\n",
       "      <td>1.59</td>\n",
       "    </tr>\n",
       "    <tr>\n",
       "      <th>8</th>\n",
       "      <td>2.009634</td>\n",
       "      <td>Qualcomm Incorporated</td>\n",
       "      <td>1.59</td>\n",
       "    </tr>\n",
       "    <tr>\n",
       "      <th>9</th>\n",
       "      <td>1.802638</td>\n",
       "      <td>UNILEVER PLC</td>\n",
       "      <td>1.69</td>\n",
       "    </tr>\n",
       "    <tr>\n",
       "      <th>10</th>\n",
       "      <td>1.759054</td>\n",
       "      <td>Newmont Mining Corporation</td>\n",
       "      <td>1.79</td>\n",
       "    </tr>\n",
       "    <tr>\n",
       "      <th>11</th>\n",
       "      <td>2.380684</td>\n",
       "      <td>MITSUBISHI CORPORATION</td>\n",
       "      <td>2.16</td>\n",
       "    </tr>\n",
       "    <tr>\n",
       "      <th>12</th>\n",
       "      <td>1.940842</td>\n",
       "      <td>The Coca-Cola Company</td>\n",
       "      <td>2.60</td>\n",
       "    </tr>\n",
       "    <tr>\n",
       "      <th>13</th>\n",
       "      <td>1.644184</td>\n",
       "      <td>IBERDROLA, SOCIEDAD ANONIMA</td>\n",
       "      <td>2.71</td>\n",
       "    </tr>\n",
       "    <tr>\n",
       "      <th>14</th>\n",
       "      <td>3.058667</td>\n",
       "      <td>E. I. Du Pont De Nemours and Company</td>\n",
       "      <td>3.13</td>\n",
       "    </tr>\n",
       "  </tbody>\n",
       "</table>\n",
       "</div>"
      ],
      "text/plain": [
       "    import_upstream                                  name    up\n",
       "0          1.450204                 Wal-Mart Stores, Inc.  0.53\n",
       "1          1.126219                               PUMA SE  1.09\n",
       "2          1.338967                 Microsoft Corporation  1.14\n",
       "3          1.762818                           Nestlé S.A.  1.17\n",
       "4          1.287646                            Nike, Inc.  1.25\n",
       "5          1.525358            Louis Dreyfus Holding B.V.  1.28\n",
       "6          1.843317                    Henry Schein, Inc.  1.57\n",
       "7          1.675351                       BAE SYSTEMS PLC  1.59\n",
       "8          2.009634                 Qualcomm Incorporated  1.59\n",
       "9          1.802638                          UNILEVER PLC  1.69\n",
       "10         1.759054            Newmont Mining Corporation  1.79\n",
       "11         2.380684                MITSUBISHI CORPORATION  2.16\n",
       "12         1.940842                 The Coca-Cola Company  2.60\n",
       "13         1.644184           IBERDROLA, SOCIEDAD ANONIMA  2.71\n",
       "14         3.058667  E. I. Du Pont De Nemours and Company  3.13"
      ]
     },
     "execution_count": 230,
     "metadata": {},
     "output_type": "execute_result"
    }
   ],
   "source": [
    "order.index = range(len(order))\n",
    "order"
   ]
  },
  {
   "cell_type": "code",
   "execution_count": 236,
   "metadata": {},
   "outputs": [
    {
     "name": "stderr",
     "output_type": "stream",
     "text": [
      "/home/ram22/anaconda3/lib/python3.6/site-packages/ipykernel_launcher.py:1: FutureWarning: sort(columns=....) is deprecated, use sort_values(by=.....)\n",
      "  \"\"\"Entry point for launching an IPython kernel.\n"
     ]
    },
    {
     "data": {
      "text/html": [
       "<div>\n",
       "<table border=\"1\" class=\"dataframe\">\n",
       "  <thead>\n",
       "    <tr style=\"text-align: right;\">\n",
       "      <th></th>\n",
       "      <th>HS2</th>\n",
       "      <th>name</th>\n",
       "      <th>API_upstream</th>\n",
       "    </tr>\n",
       "  </thead>\n",
       "  <tbody>\n",
       "    <tr>\n",
       "      <th>1</th>\n",
       "      <td>1.126219</td>\n",
       "      <td>PUMA SE</td>\n",
       "      <td>1.09</td>\n",
       "    </tr>\n",
       "    <tr>\n",
       "      <th>4</th>\n",
       "      <td>1.287646</td>\n",
       "      <td>Nike, Inc.</td>\n",
       "      <td>1.25</td>\n",
       "    </tr>\n",
       "    <tr>\n",
       "      <th>2</th>\n",
       "      <td>1.338967</td>\n",
       "      <td>Microsoft Corporation</td>\n",
       "      <td>1.14</td>\n",
       "    </tr>\n",
       "    <tr>\n",
       "      <th>0</th>\n",
       "      <td>1.450204</td>\n",
       "      <td>Wal-Mart Stores, Inc.</td>\n",
       "      <td>0.53</td>\n",
       "    </tr>\n",
       "    <tr>\n",
       "      <th>5</th>\n",
       "      <td>1.525358</td>\n",
       "      <td>Louis Dreyfus Holding B.V.</td>\n",
       "      <td>1.28</td>\n",
       "    </tr>\n",
       "    <tr>\n",
       "      <th>13</th>\n",
       "      <td>1.644184</td>\n",
       "      <td>IBERDROLA, SOCIEDAD ANONIMA</td>\n",
       "      <td>2.71</td>\n",
       "    </tr>\n",
       "    <tr>\n",
       "      <th>7</th>\n",
       "      <td>1.675351</td>\n",
       "      <td>BAE SYSTEMS PLC</td>\n",
       "      <td>1.59</td>\n",
       "    </tr>\n",
       "    <tr>\n",
       "      <th>10</th>\n",
       "      <td>1.759054</td>\n",
       "      <td>Newmont Mining Corporation</td>\n",
       "      <td>1.79</td>\n",
       "    </tr>\n",
       "    <tr>\n",
       "      <th>3</th>\n",
       "      <td>1.762818</td>\n",
       "      <td>Nestlé S.A.</td>\n",
       "      <td>1.17</td>\n",
       "    </tr>\n",
       "    <tr>\n",
       "      <th>9</th>\n",
       "      <td>1.802638</td>\n",
       "      <td>UNILEVER PLC</td>\n",
       "      <td>1.69</td>\n",
       "    </tr>\n",
       "    <tr>\n",
       "      <th>6</th>\n",
       "      <td>1.843317</td>\n",
       "      <td>Henry Schein, Inc.</td>\n",
       "      <td>1.57</td>\n",
       "    </tr>\n",
       "    <tr>\n",
       "      <th>12</th>\n",
       "      <td>1.940842</td>\n",
       "      <td>The Coca-Cola Company</td>\n",
       "      <td>2.60</td>\n",
       "    </tr>\n",
       "    <tr>\n",
       "      <th>8</th>\n",
       "      <td>2.009634</td>\n",
       "      <td>Qualcomm Incorporated</td>\n",
       "      <td>1.59</td>\n",
       "    </tr>\n",
       "    <tr>\n",
       "      <th>11</th>\n",
       "      <td>2.380684</td>\n",
       "      <td>MITSUBISHI CORPORATION</td>\n",
       "      <td>2.16</td>\n",
       "    </tr>\n",
       "    <tr>\n",
       "      <th>14</th>\n",
       "      <td>3.058667</td>\n",
       "      <td>E. I. Du Pont De Nemours and Company</td>\n",
       "      <td>3.13</td>\n",
       "    </tr>\n",
       "  </tbody>\n",
       "</table>\n",
       "</div>"
      ],
      "text/plain": [
       "         HS2                                  name  API_upstream\n",
       "1   1.126219                               PUMA SE          1.09\n",
       "4   1.287646                            Nike, Inc.          1.25\n",
       "2   1.338967                 Microsoft Corporation          1.14\n",
       "0   1.450204                 Wal-Mart Stores, Inc.          0.53\n",
       "5   1.525358            Louis Dreyfus Holding B.V.          1.28\n",
       "13  1.644184           IBERDROLA, SOCIEDAD ANONIMA          2.71\n",
       "7   1.675351                       BAE SYSTEMS PLC          1.59\n",
       "10  1.759054            Newmont Mining Corporation          1.79\n",
       "3   1.762818                           Nestlé S.A.          1.17\n",
       "9   1.802638                          UNILEVER PLC          1.69\n",
       "6   1.843317                    Henry Schein, Inc.          1.57\n",
       "12  1.940842                 The Coca-Cola Company          2.60\n",
       "8   2.009634                 Qualcomm Incorporated          1.59\n",
       "11  2.380684                MITSUBISHI CORPORATION          2.16\n",
       "14  3.058667  E. I. Du Pont De Nemours and Company          3.13"
      ]
     },
     "execution_count": 236,
     "metadata": {},
     "output_type": "execute_result"
    }
   ],
   "source": [
    "order.sort('import_upstream').rename(columns={'up': 'API_upstream', 'import_upstream' : 'HS2'})"
   ]
  },
  {
   "cell_type": "code",
   "execution_count": null,
   "metadata": {
    "collapsed": true
   },
   "outputs": [],
   "source": []
  }
 ],
 "metadata": {
  "kernelspec": {
   "display_name": "Python 3",
   "language": "python",
   "name": "python3"
  },
  "language_info": {
   "codemirror_mode": {
    "name": "ipython",
    "version": 3
   },
   "file_extension": ".py",
   "mimetype": "text/x-python",
   "name": "python",
   "nbconvert_exporter": "python",
   "pygments_lexer": "ipython3",
   "version": "3.6.0"
  }
 },
 "nbformat": 4,
 "nbformat_minor": 2
}

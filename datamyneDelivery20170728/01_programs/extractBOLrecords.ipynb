{
 "cells": [
  {
   "cell_type": "code",
   "execution_count": 14,
   "metadata": {},
   "outputs": [
    {
     "name": "stdout",
     "output_type": "stream",
     "text": [
      "ln: failed to create symbolic link '/tmp/.s.PGSQL.5432': File exists\r\n"
     ]
    }
   ],
   "source": [
    "import pandas as pd\n",
    "import psycopg2\n",
    "from psycopg2 import sql \n",
    "!ln -s /var/run/postgresql/.s.PGSQL.5432 /tmp/.s.PGSQL.5432"
   ]
  },
  {
   "cell_type": "code",
   "execution_count": 182,
   "metadata": {},
   "outputs": [
    {
     "name": "stderr",
     "output_type": "stream",
     "text": [
      "/home/ram22/anaconda3/lib/python3.6/site-packages/IPython/core/interactiveshell.py:2683: DtypeWarning: Columns (4) have mixed types. Specify dtype option on import or set low_memory=False.\n",
      "  interactivity=interactivity, compiler=compiler, result=result)\n"
     ]
    }
   ],
   "source": [
    "#df = pd.read_csv('../Datamyne_Delivery_7_28_2017/Data/meshintel-datamyne_d_b_family_tree.csv')"
   ]
  },
  {
   "cell_type": "code",
   "execution_count": 19,
   "metadata": {
    "collapsed": true
   },
   "outputs": [],
   "source": [
    "conn = psycopg2.connect(database = \"datamyne20170728\", user = \"ram22\")\n",
    "cur = conn.cursor()"
   ]
  },
  {
   "cell_type": "code",
   "execution_count": 21,
   "metadata": {},
   "outputs": [
    {
     "name": "stdout",
     "output_type": "stream",
     "text": [
      "                           0                   1  2\n",
      "0     NESTLE R&D CENTER INC.  CONSIGNEE_DECLARED  1\n",
      "1           NESTLE USA INC.,    SHIPPER_DECLARED  1\n",
      "2             NESTLE USA,INC  CONSIGNEE_DECLARED  1\n",
      "3               NESTLE WATER  CONSIGNEE_DECLARED  1\n",
      "4  NESTLE USA PREPARED FOODS  CONSIGNEE_DECLARED  1\n",
      "                                       0                   1     2\n",
      "128                   NESTLE CANADA INC.    SHIPPER_DECLARED   443\n",
      "129                      NESTLE USA, INC  CONSIGNEE_DECLARED   704\n",
      "130  NESTLE WATERS NORTH AMERICA HOLDING    SHIPPER_DECLARED  2101\n",
      "131          NESTLE WATERS NORTH AMERICA    SHIPPER_DECLARED  4754\n",
      "132          NESTLE WATERS NORTH AMERICA  CONSIGNEE_DECLARED  8176\n"
     ]
    }
   ],
   "source": [
    "cur.execute(\"\"\"\n",
    "select consignee_declared, company_found_in, count(consignee_declared) as count\n",
    "from billoflading_all\n",
    "where consignee_declared like '%NESTL%'\n",
    "group by consignee_declared, company_found_in\n",
    "order by count;\n",
    "\"\"\")\n",
    "extract = pd.DataFrame(cur.fetchall())\n",
    "print(extract.head()); print(extract.tail())\n",
    "# and company_found_in = 'CONSIGNEE_DECLARED' "
   ]
  },
  {
   "cell_type": "code",
   "execution_count": 22,
   "metadata": {
    "collapsed": true
   },
   "outputs": [],
   "source": [
    "file = 'nestle'\n",
    "extract.to_csv(file+'_consignee.csv', header=False, index=False)"
   ]
  },
  {
   "cell_type": "code",
   "execution_count": 18,
   "metadata": {
    "collapsed": true
   },
   "outputs": [],
   "source": [
    "conn.close()"
   ]
  },
  {
   "cell_type": "code",
   "execution_count": null,
   "metadata": {
    "collapsed": true
   },
   "outputs": [],
   "source": []
  },
  {
   "cell_type": "code",
   "execution_count": 9,
   "metadata": {},
   "outputs": [
    {
     "name": "stdout",
     "output_type": "stream",
     "text": [
      "                                     0   1\n",
      "0  1/LOUIS DREYFUS COMPANY COFFEE MERC   3\n",
      "1      1.)MITSUBISHI ELECTRIC US, INC.  11\n",
      "2        1.MITSUBISHI ELECTRIC US,INC.   3\n",
      "3           1)MITSUBISHI INTERNATIONAL   1\n",
      "4         1ST MITSUBISHI INTERNATIONAL   2\n",
      "                             0    1\n",
      "1174    WWAL-MART STORES, INC.    1\n",
      "1175   WWAL-MART STORES, INC.,    2\n",
      "1176   ZEPHYR GREEN COFFEE LLC  308\n",
      "1177  ZEPHYR GREEN COFFEE LLC,    1\n",
      "1178  ZEPHYR GREEN COFFEE LLC.    8\n"
     ]
    }
   ],
   "source": [
    "cur.execute(\"\"\"\n",
    "select consignee_declared, count(consignee_declared) as count\n",
    "from relevantbol\n",
    "group by consignee_declared\n",
    "order by consignee_declared, count;\n",
    "\"\"\")\n",
    "extract = pd.DataFrame(cur.fetchall())\n",
    "print(extract.head()); print(extract.tail())\n",
    "# and company_found_in = 'CONSIGNEE_DECLARED'"
   ]
  },
  {
   "cell_type": "code",
   "execution_count": 13,
   "metadata": {
    "collapsed": true
   },
   "outputs": [],
   "source": [
    "extract.to_csv('counts430pm.csv')"
   ]
  },
  {
   "cell_type": "code",
   "execution_count": null,
   "metadata": {
    "collapsed": true
   },
   "outputs": [],
   "source": [
    "E.I.DUPONT DE NEMOURS AND COMPANY"
   ]
  },
  {
   "cell_type": "code",
   "execution_count": 38,
   "metadata": {
    "collapsed": true
   },
   "outputs": [],
   "source": [
    "cur.execute(\"select column_name from information_schema.columns where table_name='billoflading';\")\n",
    "colnames = list(pd.DataFrame(cur.fetchall())[0])"
   ]
  },
  {
   "cell_type": "code",
   "execution_count": 41,
   "metadata": {},
   "outputs": [
    {
     "name": "stdout",
     "output_type": "stream",
     "text": [
      "                    bill_id bill_of_lading_number    company_found_in  \\\n",
      "0   20170510MOLU11044924160       MOLU11044924160  CONSIGNEE_DECLARED   \n",
      "1  20160713HLCUSHA1605KHXY5      HLCUSHA1605KHXY5  CONSIGNEE_DECLARED   \n",
      "2    20160123NYKS5010886160        NYKS5010886160    SHIPPER_DECLARED   \n",
      "3   20170410MOLU11044142242       MOLU11044142242  CONSIGNEE_DECLARED   \n",
      "4    20170211CMDUQDSW009842        CMDUQDSW009842  CONSIGNEE_DECLARED   \n",
      "\n",
      "  vessel_date country_of_origin world_region_by_country_of_origin  \\\n",
      "0  05/10/2017             CHINA                      EASTERN ASIA   \n",
      "1  07/13/2016             CHINA                      EASTERN ASIA   \n",
      "2  01/23/2016       SWITZERLAND                    WESTERN EUROPE   \n",
      "3  04/10/2017             CHINA                      EASTERN ASIA   \n",
      "4  02/11/2017             CHINA                      EASTERN ASIA   \n",
      "\n",
      "                           port_of_departure country_by_port_of_departure  \\\n",
      "0          SHANG HAI,SHANGHAI,CHINA MAINLAND                        CHINA   \n",
      "1          SHANG HAI,SHANGHAI,CHINA MAINLAND                        CHINA   \n",
      "2                     ANTWERP,ANVERS,BELGIUM                      BELGIUM   \n",
      "3          SHANG HAI,SHANGHAI,CHINA MAINLAND                        CHINA   \n",
      "4  TSINGTAO,CHING TAO,QINGDAO,CHINA MAINLAND                        CHINA   \n",
      "\n",
      "  world_region_by_port_of_departure        us_port  \\\n",
      "0                      EASTERN ASIA    SAVANNAH,GA   \n",
      "1                      EASTERN ASIA  CHARLESTON,SC   \n",
      "2                    WESTERN EUROPE     NORFOLK,VA   \n",
      "3                      EASTERN ASIA    SAVANNAH,GA   \n",
      "4                      EASTERN ASIA    SAVANNAH,GA   \n",
      "\n",
      "              ...             vessel_country_name voyage imo_code  \\\n",
      "0             ...                           MALTA   001E  9723241   \n",
      "1             ...                MARSHALL ISLANDS   037E  9424912   \n",
      "2             ...                         LIBERIA   005W  9320685   \n",
      "3             ...                MARSHALL ISLANDS   034E  9424936   \n",
      "4             ...                  UNITED KINGDOM  326VC  9595436   \n",
      "\n",
      "  in_bond_entry_type_name master_house_sa bill_of_lading_master  \\\n",
      "0                                       S                         \n",
      "1                                       S                         \n",
      "2                                       S                         \n",
      "3                                       S                         \n",
      "4                                       S                         \n",
      "\n",
      "  master_shipper master_consignee_unified master_notify  \\\n",
      "0                                                         \n",
      "1                                                         \n",
      "2                                                         \n",
      "3                                                         \n",
      "4                                                         \n",
      "\n",
      "                  date_change  \n",
      "0  2017-05-12 15:24:50.006142  \n",
      "1  2016-07-27 16:24:24.669-03  \n",
      "2  2016-05-13 10:38:44.597-03  \n",
      "3  2017-04-12 13:01:07.828413  \n",
      "4  2017-03-07 18:04:08.542-02  \n",
      "\n",
      "[5 rows x 65 columns]\n",
      "                       bill_id bill_of_lading_number    company_found_in  \\\n",
      "1353  20160702HLCUSHA1603ATRT0      HLCUSHA1603ATRT0    SHIPPER_DECLARED   \n",
      "1354  20160614HLCUSHA1511VGHH1      HLCUSHA1511VGHH1    SHIPPER_DECLARED   \n",
      "1355  20160801HLCUTS1160636536      HLCUTS1160636536  CONSIGNEE_DECLARED   \n",
      "1356     20160302MAEU578883067         MAEU578883067    SHIPPER_DECLARED   \n",
      "1357    20160507OOLU4022213450        OOLU4022213450    SHIPPER_DECLARED   \n",
      "\n",
      "     vessel_date country_of_origin world_region_by_country_of_origin  \\\n",
      "1353  07/02/2016             CHINA                      EASTERN ASIA   \n",
      "1354  06/14/2016             CHINA                      EASTERN ASIA   \n",
      "1355  08/01/2016             CHINA                      EASTERN ASIA   \n",
      "1356  03/02/2016             CHINA                      EASTERN ASIA   \n",
      "1357  05/07/2016        LUXEMBOURG                    WESTERN EUROPE   \n",
      "\n",
      "                      port_of_departure country_by_port_of_departure  \\\n",
      "1353  SHANG HAI,SHANGHAI,CHINA MAINLAND                        CHINA   \n",
      "1354  SHANG HAI,SHANGHAI,CHINA MAINLAND                        CHINA   \n",
      "1355            BUSAN,PUSAN,SOUTH KOREA                  SOUTH KOREA   \n",
      "1356  SHANG HAI,SHANGHAI,CHINA MAINLAND                        CHINA   \n",
      "1357             ANTWERP,ANVERS,BELGIUM                      BELGIUM   \n",
      "\n",
      "     world_region_by_port_of_departure        us_port  \\\n",
      "1353                      EASTERN ASIA  CHARLESTON,SC   \n",
      "1354                      EASTERN ASIA  CHARLESTON,SC   \n",
      "1355                      EASTERN ASIA     NORFOLK,VA   \n",
      "1356                      EASTERN ASIA  CHARLESTON,SC   \n",
      "1357                    WESTERN EUROPE    SAVANNAH,GA   \n",
      "\n",
      "                 ...             vessel_country_name voyage imo_code  \\\n",
      "1353             ...                MARSHALL ISLANDS   016E  9301330   \n",
      "1354             ...                           MALTA   034E  9400136   \n",
      "1355             ...                         LIBERIA   001E  9725146   \n",
      "1356             ...                       HONG KONG   603E  9143013   \n",
      "1357             ...                         LIBERIA   006W  9320685   \n",
      "\n",
      "     in_bond_entry_type_name master_house_sa bill_of_lading_master  \\\n",
      "1353                                       S                         \n",
      "1354                                       S                         \n",
      "1355                                       S                         \n",
      "1356                                       S                         \n",
      "1357                                       S                         \n",
      "\n",
      "     master_shipper master_consignee_unified master_notify  \\\n",
      "1353                                                         \n",
      "1354                                                         \n",
      "1355                                                         \n",
      "1356                                                         \n",
      "1357                                                         \n",
      "\n",
      "                     date_change  \n",
      "1353  2016-07-21 10:17:47.583-03  \n",
      "1354   2016-07-14 11:28:19.36-03  \n",
      "1355  2016-08-17 10:12:40.934-03  \n",
      "1356  2016-05-20 16:12:11.182-03  \n",
      "1357  2016-06-24 10:43:32.593-03  \n",
      "\n",
      "[5 rows x 65 columns]\n"
     ]
    }
   ],
   "source": [
    "cur.execute(\"\"\"\n",
    "select *\n",
    "from billoflading\n",
    "where consignee_declared = 'E.I.DUPONT DE NEMOURS AND COMPANY';\n",
    "\"\"\")\n",
    "extract = pd.DataFrame(cur.fetchall(), columns=colnames)\n",
    "print(extract.head()); print(extract.tail())"
   ]
  },
  {
   "cell_type": "code",
   "execution_count": 43,
   "metadata": {},
   "outputs": [],
   "source": [
    "extract.to_csv('dupontCase.csv', index=False)"
   ]
  },
  {
   "cell_type": "code",
   "execution_count": 40,
   "metadata": {
    "scrolled": true
   },
   "outputs": [
    {
     "data": {
      "text/plain": [
       "['bill_id',\n",
       " 'bill_of_lading_number',\n",
       " 'company_found_in',\n",
       " 'vessel_date',\n",
       " 'country_of_origin',\n",
       " 'world_region_by_country_of_origin',\n",
       " 'port_of_departure',\n",
       " 'country_by_port_of_departure',\n",
       " 'world_region_by_port_of_departure',\n",
       " 'us_port',\n",
       " 'us_coast',\n",
       " 'place_of_receipt',\n",
       " 'country_by_place_of_receipt',\n",
       " 'world_region_by_place_of_receipt',\n",
       " 'foreign_destination',\n",
       " 'shipper_unified_id',\n",
       " 'duns_nbr_shipper',\n",
       " 'shipper_unified',\n",
       " 'shipper_declared',\n",
       " 'shipper_declared_address',\n",
       " 'consignee_unified_id',\n",
       " 'duns_nbr_consignee',\n",
       " 'consignee_unified',\n",
       " 'consignee_declared',\n",
       " 'consignee_declared_address',\n",
       " 'consignee_declared_state',\n",
       " 'consignee_declared_city',\n",
       " 'consignee_declared_zip_code',\n",
       " 'notify',\n",
       " 'final_destination',\n",
       " 'hs_code',\n",
       " 'hs_concat',\n",
       " 'hs_code_description',\n",
       " 'description',\n",
       " 'marks',\n",
       " 'container_number',\n",
       " 'container_quantity',\n",
       " 'container_quantity_bill',\n",
       " 'container_size',\n",
       " 'bill_cargo_quantity',\n",
       " 'bill_cargo_quantity_unit',\n",
       " 'bill_cargo_measure',\n",
       " 'bill_cargo_measure_unit',\n",
       " 'calc_weight_kg',\n",
       " 'calc_weight_mt',\n",
       " 'calc_value_usd',\n",
       " 'calc_teus',\n",
       " 'lcl_fcl',\n",
       " 'carrier_code',\n",
       " 'carrier_name',\n",
       " 'vocc_code',\n",
       " 'vocc_name',\n",
       " 'nvocc_code',\n",
       " 'nvocc_name',\n",
       " 'vessel',\n",
       " 'vessel_country_name',\n",
       " 'voyage',\n",
       " 'imo_code',\n",
       " 'in_bond_entry_type_name',\n",
       " 'master_house_sa',\n",
       " 'bill_of_lading_master',\n",
       " 'master_shipper',\n",
       " 'master_consignee_unified',\n",
       " 'master_notify',\n",
       " 'date_change']"
      ]
     },
     "execution_count": 40,
     "metadata": {},
     "output_type": "execute_result"
    }
   ],
   "source": [
    "colnames"
   ]
  },
  {
   "cell_type": "code",
   "execution_count": null,
   "metadata": {
    "collapsed": true
   },
   "outputs": [],
   "source": []
  }
 ],
 "metadata": {
  "kernelspec": {
   "display_name": "Python 3",
   "language": "python",
   "name": "python3"
  },
  "language_info": {
   "codemirror_mode": {
    "name": "ipython",
    "version": 3
   },
   "file_extension": ".py",
   "mimetype": "text/x-python",
   "name": "python",
   "nbconvert_exporter": "python",
   "pygments_lexer": "ipython3",
   "version": "3.6.0"
  }
 },
 "nbformat": 4,
 "nbformat_minor": 2
}

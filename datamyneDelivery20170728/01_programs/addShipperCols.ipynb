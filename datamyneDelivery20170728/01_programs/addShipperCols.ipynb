{
 "cells": [
  {
   "cell_type": "code",
   "execution_count": 1,
   "metadata": {
    "collapsed": true
   },
   "outputs": [],
   "source": [
    "import pandas as pd"
   ]
  },
  {
   "cell_type": "code",
   "execution_count": 2,
   "metadata": {},
   "outputs": [
    {
     "name": "stderr",
     "output_type": "stream",
     "text": [
      "/home/ram22/anaconda3/lib/python3.6/site-packages/IPython/core/interactiveshell.py:2683: DtypeWarning: Columns (14,37,75,78,85,87,89,90,91,92,93,97,101,105,141,143,150,151,159,161,172,173,175,176,177,179,180,181,183,184,185,187,197,199,201,203,206,208,210) have mixed types. Specify dtype option on import or set low_memory=False.\n",
      "  interactivity=interactivity, compiler=compiler, result=result)\n"
     ]
    }
   ],
   "source": [
    "db = pd.read_csv('../02_dataCreated/newData20170830.csv')"
   ]
  },
  {
   "cell_type": "code",
   "execution_count": 3,
   "metadata": {
    "collapsed": true
   },
   "outputs": [],
   "source": [
    "nameFile = '/home/ram22/Dropbox/dataProjects/valueChains/meshintel/ozniras/datamyneDelivery20170728/Datamyne_Delivery_7_28_2017/Data/meshintel-datamyne_d_b_all_companies.csv'\n",
    "infile = open(nameFile)\n",
    "varNames = infile.readline()\n",
    "infile.close()\n",
    "\n",
    "varNames = varNames[:-2].replace('\"', '').split(',')\n",
    "for varName in varNames:\n",
    "    db[''.join(['shipper_d_b_', varName])] = ''"
   ]
  },
  {
   "cell_type": "code",
   "execution_count": 6,
   "metadata": {
    "collapsed": true
   },
   "outputs": [],
   "source": [
    "db.drop('_merge', axis=1, inplace=True)\n",
    "db.to_csv('../02_dataCreated/newData20170830.csv', index=False)"
   ]
  },
  {
   "cell_type": "code",
   "execution_count": 11,
   "metadata": {},
   "outputs": [],
   "source": [
    "grouped = db.groupby('consignee_d_b_global_ultimate_business_name')"
   ]
  },
  {
   "cell_type": "code",
   "execution_count": 12,
   "metadata": {},
   "outputs": [
    {
     "data": {
      "text/plain": [
       "consignee_d_b_global_ultimate_business_name\n",
       "BAE SYSTEMS PLC                               226\n",
       "E. I. Du Pont De Nemours and Company         7655\n",
       "GLAXOSMITHKLINE PLC                           384\n",
       "Henry Schein, Inc.                           1019\n",
       "IBERDROLA, SOCIEDAD ANONIMA                   139\n",
       "INDORAMA VENTURES PUBLIC COMPANY LIMITED      271\n",
       "Louis Dreyfus Holding B.V.                   3085\n",
       "MITSUBISHI CORPORATION                      39421\n",
       "Microsoft Corporation                        4201\n",
       "Nestlé S.A.                                 19034\n",
       "Newmont Mining Corporation                     27\n",
       "Nike, Inc.                                     60\n",
       "Novartis AG                                    20\n",
       "Qiagen N.V.                                    42\n",
       "Qualcomm Incorporated                           8\n",
       "SAPARDIS SE                                  5492\n",
       "The Coca-Cola Company                        1934\n",
       "UNILEVER PLC                                 1273\n",
       "Wal-Mart Stores, Inc.                        9638\n",
       "Name: consignee_d_b_global_ultimate_duns_number, dtype: int64"
      ]
     },
     "execution_count": 12,
     "metadata": {},
     "output_type": "execute_result"
    }
   ],
   "source": [
    "grouped['consignee_d_b_global_ultimate_duns_number'].count()"
   ]
  },
  {
   "cell_type": "code",
   "execution_count": null,
   "metadata": {
    "collapsed": true
   },
   "outputs": [],
   "source": []
  }
 ],
 "metadata": {
  "kernelspec": {
   "display_name": "Python 3",
   "language": "python",
   "name": "python3"
  },
  "language_info": {
   "codemirror_mode": {
    "name": "ipython",
    "version": 3
   },
   "file_extension": ".py",
   "mimetype": "text/x-python",
   "name": "python",
   "nbconvert_exporter": "python",
   "pygments_lexer": "ipython3",
   "version": "3.6.0"
  }
 },
 "nbformat": 4,
 "nbformat_minor": 2
}

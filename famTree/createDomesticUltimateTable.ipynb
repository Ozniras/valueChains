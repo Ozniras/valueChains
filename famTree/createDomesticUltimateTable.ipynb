{
 "cells": [
  {
   "cell_type": "code",
   "execution_count": 1,
   "metadata": {
    "collapsed": true
   },
   "outputs": [],
   "source": [
    "import pandas as pd\n",
    "import psycopg2\n",
    "from psycopg2 import sql\n",
    "!ln -s /var/run/postgresql/.s.PGSQL.5432 /tmp/.s.PGSQL.5432"
   ]
  },
  {
   "cell_type": "code",
   "execution_count": 4,
   "metadata": {
    "collapsed": true
   },
   "outputs": [],
   "source": [
    "dunsUltimate = pd.read_csv('domestic_ultimate_duns_number.csv')"
   ]
  },
  {
   "cell_type": "code",
   "execution_count": 3,
   "metadata": {},
   "outputs": [],
   "source": [
    "conn = psycopg2.connect(database = \"datamyne20170707\", user = \"ram22\")\n",
    "cur = conn.cursor()"
   ]
  },
  {
   "cell_type": "code",
   "execution_count": 10,
   "metadata": {
    "collapsed": true
   },
   "outputs": [],
   "source": [
    "duns = dunsUltimate['domestic_ultimate_duns_number'][0]\n",
    "cur.execute(sql.SQL(\"\"\"\n",
    "drop table if exists billoflading_domestic_ultimate_consignee;\n",
    "create table billoflading_domestic_ultimate_consignee as\n",
    "select * from billoflading\n",
    "where consignee_d_b_domestic_ultimate_duns_number ~* '.*%s.*';\"\"\" % str(duns)))\n",
    "\n",
    "for i in range(1, dunsUltimate.shape[0]):\n",
    "    duns = dunsUltimate['domestic_ultimate_duns_number'][i]\n",
    "    cur.execute(sql.SQL(\"\"\"insert into billoflading_domestic_ultimate_consignee \n",
    "    select *\n",
    "    from billoflading\n",
    "    where consignee_d_b_domestic_ultimate_duns_number ~* '.*%s.*';\"\"\" % str(duns)))\n"
   ]
  },
  {
   "cell_type": "code",
   "execution_count": 13,
   "metadata": {
    "collapsed": true
   },
   "outputs": [],
   "source": [
    "duns = dunsUltimate['domestic_ultimate_duns_number'][0]\n",
    "cur.execute(sql.SQL(\"\"\"\n",
    "drop table if exists billoflading_domestic_ultimate_shipper;\n",
    "create table billoflading_domestic_ultimate_shipper as\n",
    "select * from billoflading\n",
    "where shipper_d_b_domestic_ultimate_duns_number ~* '.*%s.*';\"\"\" % str(duns)))\n",
    "\n",
    "for i in range(1, dunsUltimate.shape[0]):\n",
    "    duns = dunsUltimate['domestic_ultimate_duns_number'][i]\n",
    "    cur.execute(sql.SQL(\"\"\"insert into billoflading_domestic_ultimate_shipper \n",
    "    select *\n",
    "    from billoflading\n",
    "    where shipper_d_b_domestic_ultimate_duns_number ~* '.*%s.*';\"\"\" % str(duns)))\n"
   ]
  },
  {
   "cell_type": "code",
   "execution_count": 18,
   "metadata": {
    "collapsed": true
   },
   "outputs": [],
   "source": [
    "cur.execute(\"\"\"COPY billoflading_domestic_ultimate_consignee to \n",
    "'/home/ram22/dataDrive/dataProjects/postgresql/tempOutput/billoflading_domestic_ultimate_consignee.csv' \n",
    "WITH CSV HEADER;\"\"\")"
   ]
  },
  {
   "cell_type": "code",
   "execution_count": 25,
   "metadata": {
    "collapsed": true
   },
   "outputs": [],
   "source": [
    "cur.execute(\"\"\"\n",
    "select consignee_d_b_duns_number,\n",
    "consignee_d_b_business_name,\n",
    "consignee_d_b_tradestyle_name,\n",
    "consignee_d_b_legal_status_code,\n",
    "consignee_d_b_legal_status_name,\n",
    "consignee_d_b_status_code,\n",
    "consignee_d_b_status_name,\n",
    "consignee_d_b_street_address,\n",
    "consignee_d_b_street_address_2,\n",
    "consignee_d_b_db_city_code,\n",
    "consignee_d_b_city_name,\n",
    "consignee_d_b_db_us_county_code,\n",
    "consignee_d_b_state_province_name,\n",
    "consignee_d_b_db_state_code,\n",
    "consignee_d_b_country_name,\n",
    "consignee_d_b_db_country_code,\n",
    "consignee_d_b_postal_code,\n",
    "consignee_d_b_chief_executive_officer_name,\n",
    "consignee_d_b_chief_executive_officer_title,\n",
    "consignee_d_b_otc_ticker,\n",
    "consignee_d_b_nyse_ticker,\n",
    "consignee_d_b_ase_ticker,\n",
    "consignee_d_b_nms_ticker,\n",
    "consignee_d_b_nas_ticker,\n",
    "consignee_d_b_domestic_ultimate_duns_number,\n",
    "consignee_d_b_domestic_ultimate_business_name,\n",
    "consignee_d_b_telephone_number,\n",
    "consignee_d_b_facsimile_number,\n",
    "consignee_d_b_url_domain_name_1,\n",
    "consignee_d_b_url_domain_name_2,\n",
    "consignee_d_b_employees_total,\n",
    "consignee_d_b_sales_volume_us_dollars,\n",
    "consignee_d_b_year_started,\n",
    "consignee_d_b_import_export_agent_code,\n",
    "consignee_d_b_us_1987_sic_1,\n",
    "consignee_d_b_line_of_business,\n",
    "consignee_d_b_latitude,\n",
    "consignee_d_b_longitude,\n",
    "consignee_d_b_primary_naics_1_1_code,\n",
    "consignee_d_b_primary_naics_1_1_description\n",
    "from billoflading_domestic_ultimate_consignee;\n",
    "\"\"\")"
   ]
  },
  {
   "cell_type": "code",
   "execution_count": 26,
   "metadata": {
    "collapsed": true
   },
   "outputs": [],
   "source": [
    "db = pd.DataFrame(cur.fetchall(),\n",
    "                  columns=['consignee_d_b_duns_number',\n",
    "                            'consignee_d_b_business_name',\n",
    "                            'consignee_d_b_tradestyle_name',\n",
    "                            'consignee_d_b_legal_status_code',\n",
    "                            'consignee_d_b_legal_status_name',\n",
    "                            'consignee_d_b_status_code',\n",
    "                            'consignee_d_b_status_name',\n",
    "                            'consignee_d_b_street_address',\n",
    "                            'consignee_d_b_street_address_2',\n",
    "                            'consignee_d_b_db_city_code',\n",
    "                            'consignee_d_b_city_name',\n",
    "                            'consignee_d_b_db_us_county_code',\n",
    "                            'consignee_d_b_state_province_name',\n",
    "                            'consignee_d_b_db_state_code',\n",
    "                            'consignee_d_b_country_name',\n",
    "                            'consignee_d_b_db_country_code',\n",
    "                            'consignee_d_b_postal_code',\n",
    "                            'consignee_d_b_chief_executive_officer_name',\n",
    "                            'consignee_d_b_chief_executive_officer_title',\n",
    "                            'consignee_d_b_otc_ticker',\n",
    "                            'consignee_d_b_nyse_ticker',\n",
    "                            'consignee_d_b_ase_ticker',\n",
    "                            'consignee_d_b_nms_ticker',\n",
    "                            'consignee_d_b_nas_ticker',\n",
    "                            'consignee_d_b_domestic_ultimate_duns_number',\n",
    "                            'consignee_d_b_domestic_ultimate_business_name',\n",
    "                            'consignee_d_b_telephone_number',\n",
    "                            'consignee_d_b_facsimile_number',\n",
    "                            'consignee_d_b_url_domain_name_1',\n",
    "                            'consignee_d_b_url_domain_name_2',\n",
    "                            'consignee_d_b_employees_total',\n",
    "                            'consignee_d_b_sales_volume_us_dollars',\n",
    "                            'consignee_d_b_year_started',\n",
    "                            'consignee_d_b_import_export_agent_code',\n",
    "                            'consignee_d_b_us_1987_sic_1',\n",
    "                            'consignee_d_b_line_of_business',\n",
    "                            'consignee_d_b_latitude',\n",
    "                            'consignee_d_b_longitude',\n",
    "                            'consignee_d_b_primary_naics_1_1_code',\n",
    "                            'consignee_d_b_primary_naics_1_1_description'])"
   ]
  },
  {
   "cell_type": "code",
   "execution_count": 4,
   "metadata": {
    "collapsed": true
   },
   "outputs": [],
   "source": [
    "conn.commit()\n",
    "conn.close()"
   ]
  },
  {
   "cell_type": "code",
   "execution_count": 31,
   "metadata": {
    "collapsed": true
   },
   "outputs": [],
   "source": [
    "db.drop_duplicates(inplace=True)"
   ]
  },
  {
   "cell_type": "code",
   "execution_count": 32,
   "metadata": {},
   "outputs": [
    {
     "data": {
      "text/plain": [
       "(109, 40)"
      ]
     },
     "execution_count": 32,
     "metadata": {},
     "output_type": "execute_result"
    }
   ],
   "source": [
    "db.shape"
   ]
  },
  {
   "cell_type": "code",
   "execution_count": 34,
   "metadata": {
    "collapsed": true,
    "scrolled": true
   },
   "outputs": [],
   "source": [
    "db.to_csv('unduplicatedDBconsigneeWdomesticUltimate.csv', index=False)"
   ]
  },
  {
   "cell_type": "code",
   "execution_count": null,
   "metadata": {
    "collapsed": true
   },
   "outputs": [],
   "source": []
  }
 ],
 "metadata": {
  "kernelspec": {
   "display_name": "Python [default]",
   "language": "python",
   "name": "python3"
  },
  "language_info": {
   "codemirror_mode": {
    "name": "ipython",
    "version": 3
   },
   "file_extension": ".py",
   "mimetype": "text/x-python",
   "name": "python",
   "nbconvert_exporter": "python",
   "pygments_lexer": "ipython3",
   "version": "3.5.2"
  }
 },
 "nbformat": 4,
 "nbformat_minor": 2
}

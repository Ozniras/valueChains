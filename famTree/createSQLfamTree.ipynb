{
 "cells": [
  {
   "cell_type": "code",
   "execution_count": 1,
   "metadata": {
    "collapsed": true
   },
   "outputs": [],
   "source": [
    "import pandas as pd\n",
    "import psycopg2\n",
    "from psycopg2 import sql\n",
    "!ln -s /var/run/postgresql/.s.PGSQL.5432 /tmp/.s.PGSQL.5432"
   ]
  },
  {
   "cell_type": "code",
   "execution_count": 12,
   "metadata": {
    "collapsed": true
   },
   "outputs": [],
   "source": [
    "conn = psycopg2.connect(database = \"datamyne20170707\", user = \"ram22\")\n",
    "cur = conn.cursor()"
   ]
  },
  {
   "cell_type": "code",
   "execution_count": 8,
   "metadata": {},
   "outputs": [
    {
     "name": "stdout",
     "output_type": "stream",
     "text": [
      "['duns_number', 'business_name', 'domestic_ultimate_duns_number', 'domestic_ultimate_business_name']\n"
     ]
    }
   ],
   "source": [
    "inputFile = open('/home/ram22/dataDrive/dataProjects/Datamyne D&B Family Tree.csv', 'r')\n",
    "varNames = inputFile.readline()\n",
    "\n",
    "varNames = varNames[:-2].replace('\"', '').split(',')\n",
    "print(varNames)"
   ]
  },
  {
   "cell_type": "code",
   "execution_count": 10,
   "metadata": {
    "collapsed": true
   },
   "outputs": [],
   "source": [
    "cur.execute(\"DROP TABLE IF EXISTS familyTreeFLAT;\")\n",
    "\n",
    "i = 0\n",
    "for field in varNames:\n",
    "    if i == 0:\n",
    "        cur.execute(sql.SQL(\"CREATE TABLE familyTreeFLAT ({0} varchar);\").format(sql.Identifier(field)))\n",
    "        i += 1\n",
    "    else:\n",
    "        cur.execute(sql.SQL(\"ALTER TABLE familyTreeFLAT ADD {0} varchar;\").format(sql.Identifier(field)))\n",
    "\n",
    "cur.copy_expert(\"COPY familyTreeFLAT FROM STDIN WITH CSV HEADER\", inputFile)\n"
   ]
  },
  {
   "cell_type": "code",
   "execution_count": 13,
   "metadata": {
    "collapsed": true
   },
   "outputs": [],
   "source": [
    "inputFile.close()\n",
    "conn.commit()\n",
    "conn.close()"
   ]
  },
  {
   "cell_type": "code",
   "execution_count": null,
   "metadata": {
    "collapsed": true
   },
   "outputs": [],
   "source": []
  }
 ],
 "metadata": {
  "kernelspec": {
   "display_name": "Python [default]",
   "language": "python",
   "name": "python3"
  },
  "language_info": {
   "codemirror_mode": {
    "name": "ipython",
    "version": 3
   },
   "file_extension": ".py",
   "mimetype": "text/x-python",
   "name": "python",
   "nbconvert_exporter": "python",
   "pygments_lexer": "ipython3",
   "version": "3.5.2"
  }
 },
 "nbformat": 4,
 "nbformat_minor": 2
}

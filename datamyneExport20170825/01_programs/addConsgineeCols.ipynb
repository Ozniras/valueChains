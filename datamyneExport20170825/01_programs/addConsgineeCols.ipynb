{
 "cells": [
  {
   "cell_type": "code",
   "execution_count": 2,
   "metadata": {
    "collapsed": true
   },
   "outputs": [],
   "source": [
    "import pandas as pd"
   ]
  },
  {
   "cell_type": "code",
   "execution_count": 3,
   "metadata": {},
   "outputs": [
    {
     "name": "stderr",
     "output_type": "stream",
     "text": [
      "/home/ram22/anaconda3/lib/python3.6/site-packages/IPython/core/interactiveshell.py:2683: DtypeWarning: Columns (158,159,161,162,163,165,166,167,169,185,192) have mixed types. Specify dtype option on import or set low_memory=False.\n",
      "  interactivity=interactivity, compiler=compiler, result=result)\n"
     ]
    }
   ],
   "source": [
    "db = pd.read_csv('../02_dataCreated/newData.csv')"
   ]
  },
  {
   "cell_type": "code",
   "execution_count": 4,
   "metadata": {
    "collapsed": true
   },
   "outputs": [],
   "source": [
    "nameFile = '../datamyneUSexports/meshintel-datamyne_export_bol_d_b_profiles.csv'\n",
    "infile = open(nameFile)\n",
    "varNames = infile.readline()\n",
    "infile.close()\n",
    "\n",
    "varNames = varNames[:-2].replace('\"', '').split(',')\n",
    "for varName in varNames:\n",
    "    db[''.join(['consignee_d_b_', varName])] = ''\n",
    "    \n",
    "db['consignee_unfied_id'] = ''"
   ]
  },
  {
   "cell_type": "code",
   "execution_count": 5,
   "metadata": {
    "collapsed": true
   },
   "outputs": [],
   "source": [
    "db.drop('_merge', axis=1, inplace=True)\n",
    "db.to_csv('../02_dataCreated/newData20170901.csv', index=False)"
   ]
  },
  {
   "cell_type": "code",
   "execution_count": 6,
   "metadata": {
    "collapsed": true
   },
   "outputs": [],
   "source": [
    "grouped = db.groupby('shipper_d_b_global_ultimate_business_name')"
   ]
  },
  {
   "cell_type": "code",
   "execution_count": 7,
   "metadata": {},
   "outputs": [
    {
     "data": {
      "text/plain": [
       "shipper_d_b_global_ultimate_business_name\n",
       "BAE SYSTEMS PLC                            6\n",
       "E. I. Du Pont De Nemours and Company     770\n",
       "Henry Schein, Inc.                         2\n",
       "Louis Dreyfus Holding B.V.              1923\n",
       "MITSUBISHI CORPORATION                  3810\n",
       "Microsoft Corporation                      2\n",
       "Nestlé S.A.                             3481\n",
       "Newmont Mining Corporation                 1\n",
       "Nike, Inc.                                19\n",
       "The Coca-Cola Company                    445\n",
       "UNILEVER PLC                            1715\n",
       "Wal-Mart Stores, Inc.                    103\n",
       "Name: shipper_d_b_global_ultimate_duns_number, dtype: int64"
      ]
     },
     "execution_count": 7,
     "metadata": {},
     "output_type": "execute_result"
    }
   ],
   "source": [
    "grouped['shipper_d_b_global_ultimate_duns_number'].count()"
   ]
  },
  {
   "cell_type": "code",
   "execution_count": null,
   "metadata": {
    "collapsed": true
   },
   "outputs": [],
   "source": []
  }
 ],
 "metadata": {
  "kernelspec": {
   "display_name": "Python 3",
   "language": "python",
   "name": "python3"
  },
  "language_info": {
   "codemirror_mode": {
    "name": "ipython",
    "version": 3
   },
   "file_extension": ".py",
   "mimetype": "text/x-python",
   "name": "python",
   "nbconvert_exporter": "python",
   "pygments_lexer": "ipython3",
   "version": "3.6.0"
  }
 },
 "nbformat": 4,
 "nbformat_minor": 2
}

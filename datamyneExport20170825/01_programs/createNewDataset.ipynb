{
 "cells": [
  {
   "cell_type": "code",
   "execution_count": 1,
   "metadata": {
    "collapsed": true
   },
   "outputs": [],
   "source": [
    "import pandas as pd\n",
    "import psycopg2\n",
    "#from psycopg2 import sql\n",
    "#!ln -s /var/run/postgresql/.s.PGSQL.5432 /tmp/.s.PGSQL.5432'"
   ]
  },
  {
   "cell_type": "code",
   "execution_count": 2,
   "metadata": {
    "collapsed": true
   },
   "outputs": [],
   "source": [
    "conn = psycopg2.connect(database = \"datamyneUSexports\", user = \"ram22\")\n",
    "cur = conn.cursor()"
   ]
  },
  {
   "cell_type": "code",
   "execution_count": 3,
   "metadata": {
    "collapsed": true
   },
   "outputs": [],
   "source": [
    "cur.execute(\"\"\"\n",
    "drop table if exists relevantbol;\n",
    "create table relevantbol as\n",
    "select *\n",
    "from\n",
    "(select *, duns_nbr_shipper::bigint as duns_number_bol from billoflading_all\n",
    "WHERE duns_nbr_shipper != '' AND duns_nbr_shipper IS NOT NULL\n",
    ") as bol\n",
    "inner join \n",
    "(select shipper_d_b_duns_number::bigint as duns_number_db, \n",
    "shipper_d_b_duns_number,\n",
    "shipper_d_b_business_name,\n",
    "shipper_d_b_headquarter_duns_number, \n",
    "shipper_d_b_headquarter_parent_business_name,\n",
    "shipper_d_b_domestic_ultimate_duns_number, \n",
    "shipper_d_b_domestic_ultimate_business_name,\n",
    "shipper_d_b_global_ultimate_duns_number, \n",
    "shipper_d_b_global_ultimate_business_name\n",
    "from children_db_profiles) as children\n",
    "on (bol.duns_number_bol = children.duns_number_db);\n",
    "\"\"\")\n",
    "conn.commit()"
   ]
  },
  {
   "cell_type": "code",
   "execution_count": 4,
   "metadata": {
    "collapsed": true
   },
   "outputs": [],
   "source": [
    "cur.execute(\"\"\"\n",
    "COPY relevantbol to\n",
    "    '/home/ram22/dataDrive/dataProjects/postgresql/tempOutput/relevantBoL.csv'\n",
    "    WITH CSV HEADER;\n",
    "\"\"\")\n",
    "!cp '/home/ram22/dataDrive/dataProjects/postgresql/tempOutput/relevantBoL.csv' '../02_dataCreated/'"
   ]
  },
  {
   "cell_type": "code",
   "execution_count": 5,
   "metadata": {
    "collapsed": true
   },
   "outputs": [],
   "source": [
    "cur.execute(\"\"\"\n",
    "drop table if exists exp;\n",
    "create table exp as\n",
    "select *\n",
    "from\n",
    "(select *, duns_nbr_shipper::bigint as duns_number_bol from billoflading_all \n",
    "WHERE duns_nbr_shipper != '' AND duns_nbr_shipper IS NOT NULL\n",
    ") as bol\n",
    "left outer join \n",
    "(select shipper_d_b_duns_number::bigint as duns_number_db, \n",
    "shipper_d_b_duns_number,\n",
    "shipper_d_b_business_name,\n",
    "shipper_d_b_global_ultimate_duns_number, \n",
    "shipper_d_b_global_ultimate_business_name\n",
    "from children_db_profiles) as children\n",
    "on (bol.duns_number_bol = children.duns_number_db);\n",
    "\"\"\")\n",
    "conn.commit()"
   ]
  },
  {
   "cell_type": "code",
   "execution_count": 6,
   "metadata": {
    "collapsed": true
   },
   "outputs": [],
   "source": [
    "cur.execute(\"\"\"\n",
    "COPY exp to\n",
    "    '/home/ram22/dataDrive/dataProjects/postgresql/tempOutput/exp.csv'\n",
    "    WITH CSV HEADER;\n",
    "\"\"\")\n",
    "!cp '/home/ram22/dataDrive/dataProjects/postgresql/tempOutput/exp.csv' '../02_dataCreated/'\n",
    "# Note: '790451231' is a Mitsubishi Forklift... in USA. It's global ultimate is '690539887', which is \n",
    "# MITSUBISHI NICHIYU FORKLIFT CO.,LTD. but that appears as it's own global ultimate. ie it never ties to our mitsu"
   ]
  },
  {
   "cell_type": "code",
   "execution_count": 7,
   "metadata": {
    "collapsed": true
   },
   "outputs": [],
   "source": [
    "conn.commit()\n",
    "conn.close()"
   ]
  },
  {
   "cell_type": "code",
   "execution_count": 8,
   "metadata": {},
   "outputs": [
    {
     "name": "stdout",
     "output_type": "stream",
     "text": [
      "31\n"
     ]
    }
   ],
   "source": [
    "# Global ultimates which identify what we want\n",
    "global_ultimates = [217304393, # BAE SYSTEMS PLC \n",
    "                    778557603, # CENTRICA PLC\n",
    "                    790428754, # Chobani, LLC\n",
    "                    305422255, # DONG Energy Power A/S\n",
    "                    1315704, # E. I. Du Pont De Nemours and Company\n",
    "                    12430880, # Herny Schein, Inc.\n",
    "                    544957314, # Huawei Investment and Holding Co., Ltd.\n",
    "                    671584550, # INDORAMA VENTURES PUBLIC COMPANY LIMITED\n",
    "                    81466849, # Microsoft Corportation\n",
    "                    690546460, # MITSUBISHI CORPORATION\n",
    "                    480708874, # Nestle S.A.\n",
    "                    6988414, # Newmont Mining Corporation\n",
    "                    50957364, # Nike, Inc.\n",
    "                    485609796, # Novartis AG\n",
    "                    489840363, # Qiagen N.V.\n",
    "                    144356508, # Qualcomm Incorporated\n",
    "                    480008226, # Roche Holding AG\n",
    "                    3296175, # The Coca-Cola Company\n",
    "                    210300901, # UNILEVER PLC\n",
    "                    289936783, # VODAFONE GROUP PLC\n",
    "                    51957769, # Wal-Mart Stores, Inc.\n",
    "                    387451045, # Louis Dreyfus Holding B.V.\n",
    "                    79942718, # Alphabet, Inc.\n",
    "                    60902413, # Google Inc.\n",
    "                    461026429, # IBERDROLA, SOCIEDAD ANONIMA\n",
    "                    238980408] #GLAXOSMITHKLINE PLC\n",
    "domestic_ultimates = [366470602] # CONSOLIDATED CONTRACTORS INTERNATIONAL COMPANY S A L; 315275255 PUMA SE at this level only points at itself\n",
    "headquarters = [315275255, 402491757, 794661801] # Puma SE; Heineken N.V.; Nespresso Usa, Inc.; 654292358 for Huawei Techonologies Co. Ltd.\n",
    "entities = [862932619] # Bajaj Auto Corporation\n",
    "# These make 31\n",
    "print(len(global_ultimates) + len(domestic_ultimates) + len(headquarters) + len(entities))\n",
    "# Not looked for: Klockner & Co, F. Hoffmann-La Roche Limited; Royal Philips; Reuters Market Light, India; Nykredit AS; Northwell Health; Dogan Broadcasting\n",
    "# Not found: Mumm, Dignity Health , VTB Bank\n",
    "# Problem with ROCHE\n",
    "# Those are 11 (not double counting ROCHE). Plus 31 = 42. But I added Alphabet in global_ultimates."
   ]
  },
  {
   "cell_type": "code",
   "execution_count": 9,
   "metadata": {},
   "outputs": [],
   "source": [
    "relevantBoL = pd.read_csv('../02_dataCreated/relevantBoL.csv')\n",
    "\n",
    "targetDBprofiles = pd.read_csv('../02_dataCreated/targetDBprofiles.csv')\n",
    "targetDBprofiles.columns = ['shipper_d_b_' + i for i in targetDBprofiles.columns]\n",
    "\n",
    "temp = relevantBoL.copy()"
   ]
  },
  {
   "cell_type": "code",
   "execution_count": 10,
   "metadata": {},
   "outputs": [
    {
     "name": "stderr",
     "output_type": "stream",
     "text": [
      "/home/ram22/anaconda3/lib/python3.6/site-packages/ipykernel_launcher.py:1: SettingWithCopyWarning: \n",
      "A value is trying to be set on a copy of a slice from a DataFrame\n",
      "\n",
      "See the caveats in the documentation: http://pandas.pydata.org/pandas-docs/stable/indexing.html#indexing-view-versus-copy\n",
      "  \"\"\"Entry point for launching an IPython kernel.\n",
      "/home/ram22/anaconda3/lib/python3.6/site-packages/ipykernel_launcher.py:3: SettingWithCopyWarning: \n",
      "A value is trying to be set on a copy of a slice from a DataFrame\n",
      "\n",
      "See the caveats in the documentation: http://pandas.pydata.org/pandas-docs/stable/indexing.html#indexing-view-versus-copy\n",
      "  This is separate from the ipykernel package so we can avoid doing imports until\n",
      "/home/ram22/anaconda3/lib/python3.6/site-packages/ipykernel_launcher.py:5: SettingWithCopyWarning: \n",
      "A value is trying to be set on a copy of a slice from a DataFrame\n",
      "\n",
      "See the caveats in the documentation: http://pandas.pydata.org/pandas-docs/stable/indexing.html#indexing-view-versus-copy\n",
      "  \"\"\"\n"
     ]
    }
   ],
   "source": [
    "temp['shipper_d_b_business_name'][relevantBoL['shipper_d_b_global_ultimate_duns_number'].isin(global_ultimates)] = \\\n",
    "    relevantBoL['shipper_d_b_global_ultimate_business_name'][relevantBoL['shipper_d_b_global_ultimate_duns_number'].isin(global_ultimates)]\n",
    "    \n",
    "temp['shipper_d_b_business_name'][relevantBoL['shipper_d_b_domestic_ultimate_duns_number'].isin(domestic_ultimates)] = \\\n",
    "    relevantBoL['shipper_d_b_domestic_ultimate_business_name'][relevantBoL['shipper_d_b_domestic_ultimate_duns_number'].isin(domestic_ultimates)]\n",
    "    \n",
    "temp['shipper_d_b_business_name'][relevantBoL['shipper_d_b_headquarter_duns_number'].isin(headquarters)] = \\\n",
    "    relevantBoL['shipper_d_b_headquarter_parent_business_name'][relevantBoL['shipper_d_b_headquarter_duns_number'].isin(headquarters)]\n"
   ]
  },
  {
   "cell_type": "code",
   "execution_count": 11,
   "metadata": {
    "collapsed": true
   },
   "outputs": [],
   "source": [
    "temp['shipper_d_b_business_name'] = temp['shipper_d_b_business_name'].str.upper()\n",
    "targetDBprofiles['shipper_d_b_business_name'] = targetDBprofiles['shipper_d_b_business_name'].str.upper()"
   ]
  },
  {
   "cell_type": "code",
   "execution_count": 12,
   "metadata": {
    "collapsed": true
   },
   "outputs": [],
   "source": [
    "temp = temp.merge(targetDBprofiles.drop(['shipper_d_b_duns_number',\n",
    "    'shipper_d_b_headquarter_duns_number', \n",
    "    'shipper_d_b_headquarter_parent_business_name',\n",
    "    'shipper_d_b_domestic_ultimate_duns_number', \n",
    "    'shipper_d_b_domestic_ultimate_business_name',\n",
    "    'shipper_d_b_global_ultimate_duns_number', \n",
    "    'shipper_d_b_global_ultimate_business_name'], axis=1),\n",
    "    how='left', \n",
    "    left_on='shipper_d_b_business_name', right_on='shipper_d_b_business_name',\n",
    "    indicator=True)"
   ]
  },
  {
   "cell_type": "code",
   "execution_count": 13,
   "metadata": {
    "collapsed": true
   },
   "outputs": [],
   "source": [
    "##########################################################################\n",
    "temp = temp[temp['shipper_d_b_business_name'] != str.upper('Nestl? S.A.')]\n",
    "################################################################################"
   ]
  },
  {
   "cell_type": "code",
   "execution_count": 14,
   "metadata": {
    "collapsed": true
   },
   "outputs": [],
   "source": [
    "temp.to_csv('../02_dataCreated/newData.csv', index=False)"
   ]
  },
  {
   "cell_type": "code",
   "execution_count": 16,
   "metadata": {},
   "outputs": [
    {
     "data": {
      "text/plain": [
       "MITSUBISHI CORPORATION                  3810\n",
       "NESTLÉ S.A.                             3481\n",
       "LOUIS DREYFUS HOLDING B.V.              1923\n",
       "UNILEVER PLC                            1715\n",
       "E. I. DU PONT DE NEMOURS AND COMPANY     770\n",
       "THE COCA-COLA COMPANY                    445\n",
       "WAL-MART STORES, INC.                    103\n",
       "NIKE, INC.                                19\n",
       "BAE SYSTEMS PLC                            6\n",
       "HENRY SCHEIN, INC.                         2\n",
       "MICROSOFT CORPORATION                      2\n",
       "NEWMONT MINING CORPORATION                 1\n",
       "Name: shipper_d_b_business_name, dtype: int64"
      ]
     },
     "execution_count": 16,
     "metadata": {},
     "output_type": "execute_result"
    }
   ],
   "source": [
    "temp.shipper_d_b_business_name.value_counts(dropna=False)"
   ]
  },
  {
   "cell_type": "code",
   "execution_count": 17,
   "metadata": {},
   "outputs": [
    {
     "data": {
      "text/plain": [
       "global ultimate    10354\n",
       "Name: shipper_d_b_foundIn, dtype: int64"
      ]
     },
     "execution_count": 17,
     "metadata": {},
     "output_type": "execute_result"
    }
   ],
   "source": [
    "temp.shipper_d_b_foundIn.value_counts()"
   ]
  },
  {
   "cell_type": "code",
   "execution_count": 76,
   "metadata": {},
   "outputs": [
    {
     "data": {
      "text/plain": [
       "(93929, 217)"
      ]
     },
     "execution_count": 76,
     "metadata": {},
     "output_type": "execute_result"
    }
   ],
   "source": [
    "temp.shape"
   ]
  },
  {
   "cell_type": "code",
   "execution_count": 77,
   "metadata": {
    "collapsed": true
   },
   "outputs": [],
   "source": [
    "argh = temp.groupby(['consignee_d_b_business_name', 'consignee_declared'])"
   ]
  },
  {
   "cell_type": "code",
   "execution_count": 78,
   "metadata": {
    "collapsed": true
   },
   "outputs": [],
   "source": [
    "argh['consignee_declared'].count().to_csv('counts430.csv')"
   ]
  },
  {
   "cell_type": "code",
   "execution_count": null,
   "metadata": {
    "collapsed": true
   },
   "outputs": [],
   "source": []
  }
 ],
 "metadata": {
  "kernelspec": {
   "display_name": "Python 3",
   "language": "python",
   "name": "python3"
  },
  "language_info": {
   "codemirror_mode": {
    "name": "ipython",
    "version": 3
   },
   "file_extension": ".py",
   "mimetype": "text/x-python",
   "name": "python",
   "nbconvert_exporter": "python",
   "pygments_lexer": "ipython3",
   "version": "3.6.0"
  }
 },
 "nbformat": 4,
 "nbformat_minor": 2
}

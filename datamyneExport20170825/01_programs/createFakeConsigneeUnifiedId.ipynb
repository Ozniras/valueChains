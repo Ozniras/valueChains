{
 "cells": [
  {
   "cell_type": "code",
   "execution_count": 1,
   "metadata": {
    "collapsed": true
   },
   "outputs": [],
   "source": [
    "import pandas as pd"
   ]
  },
  {
   "cell_type": "code",
   "execution_count": 2,
   "metadata": {},
   "outputs": [
    {
     "name": "stderr",
     "output_type": "stream",
     "text": [
      "/home/ram22/anaconda3/lib/python3.6/site-packages/IPython/core/interactiveshell.py:2683: DtypeWarning: Columns (39,158,159,161,162,163,165,166,167,169,183,185,192) have mixed types. Specify dtype option on import or set low_memory=False.\n",
      "  interactivity=interactivity, compiler=compiler, result=result)\n"
     ]
    }
   ],
   "source": [
    "df = pd.read_csv('../02_dataCreated/newData20170901.csv')"
   ]
  },
  {
   "cell_type": "code",
   "execution_count": 3,
   "metadata": {},
   "outputs": [
    {
     "data": {
      "text/plain": [
       "MITSUBISHI CORPORATION                  3810\n",
       "NESTLÉ S.A.                             3481\n",
       "LOUIS DREYFUS HOLDING B.V.              1923\n",
       "UNILEVER PLC                            1715\n",
       "E. I. DU PONT DE NEMOURS AND COMPANY     770\n",
       "THE COCA-COLA COMPANY                    445\n",
       "WAL-MART STORES, INC.                    103\n",
       "NIKE, INC.                                19\n",
       "BAE SYSTEMS PLC                            6\n",
       "HENRY SCHEIN, INC.                         2\n",
       "MICROSOFT CORPORATION                      2\n",
       "NEWMONT MINING CORPORATION                 1\n",
       "Name: shipper_d_b_business_name, dtype: int64"
      ]
     },
     "execution_count": 3,
     "metadata": {},
     "output_type": "execute_result"
    }
   ],
   "source": [
    "df['shipper_d_b_business_name'].value_counts()"
   ]
  },
  {
   "cell_type": "code",
   "execution_count": 4,
   "metadata": {},
   "outputs": [
    {
     "data": {
      "text/plain": [
       "Index(['bill_id', 'bill_of_lading_number', 'company_found_in', 'vessel_date',\n",
       "       'us_port', 'us_coast', 'place_of_receipt_declared', 'place_of_receipt',\n",
       "       'place_of_receipt_state', 'foreign_port_declared',\n",
       "       ...\n",
       "       'consignee_d_b_geo_code_accuracy', 'consignee_d_b_otc_ticker',\n",
       "       'consignee_d_b_nyse_ticker', 'consignee_d_b_ase_ticker',\n",
       "       'consignee_d_b_nms_ticker', 'consignee_d_b_nas_ticker',\n",
       "       'consignee_d_b_temporary_fields', 'consignee_d_b_f_carga',\n",
       "       'consignee_d_b_dato', 'consignee_unfied_id'],\n",
       "      dtype='object', length=347)"
      ]
     },
     "execution_count": 4,
     "metadata": {},
     "output_type": "execute_result"
    }
   ],
   "source": [
    "df.columns"
   ]
  },
  {
   "cell_type": "code",
   "execution_count": 5,
   "metadata": {
    "collapsed": true
   },
   "outputs": [],
   "source": [
    "def make_identifier(df):\n",
    "    str_id = df.apply(lambda x: '_'.join(map(str, x)), axis=1)\n",
    "    return pd.factorize(str_id)[0]\n",
    "\n",
    "df['consignee_unified_id'] = make_identifier(df[['shipper_d_b_business_name', 'us_port', 'carrier_code', 'foreign_port']])"
   ]
  },
  {
   "cell_type": "code",
   "execution_count": 6,
   "metadata": {
    "collapsed": true
   },
   "outputs": [],
   "source": [
    "df.to_csv('../02_dataCreated/newData20170904.csv', index=False)"
   ]
  },
  {
   "cell_type": "code",
   "execution_count": 7,
   "metadata": {
    "collapsed": true
   },
   "outputs": [],
   "source": [
    "x =df[['shipper_d_b_business_name', 'consignee_unified_id']].groupby(['shipper_d_b_business_name', 'consignee_unified_id']).size().unstack(fill_value=0)"
   ]
  },
  {
   "cell_type": "code",
   "execution_count": 8,
   "metadata": {},
   "outputs": [
    {
     "data": {
      "text/plain": [
       "consignee_unified_id\n",
       "620    1\n",
       "751    2\n",
       "752    1\n",
       "753    1\n",
       "754    1\n",
       "Name: BAE SYSTEMS PLC, dtype: int64"
      ]
     },
     "execution_count": 8,
     "metadata": {},
     "output_type": "execute_result"
    }
   ],
   "source": [
    "a=(x.T)['BAE SYSTEMS PLC']\n",
    "a[a!=0]"
   ]
  },
  {
   "cell_type": "code",
   "execution_count": null,
   "metadata": {
    "collapsed": true
   },
   "outputs": [],
   "source": []
  }
 ],
 "metadata": {
  "kernelspec": {
   "display_name": "Python 3",
   "language": "python",
   "name": "python3"
  },
  "language_info": {
   "codemirror_mode": {
    "name": "ipython",
    "version": 3
   },
   "file_extension": ".py",
   "mimetype": "text/x-python",
   "name": "python",
   "nbconvert_exporter": "python",
   "pygments_lexer": "ipython3",
   "version": "3.6.0"
  }
 },
 "nbformat": 4,
 "nbformat_minor": 2
}

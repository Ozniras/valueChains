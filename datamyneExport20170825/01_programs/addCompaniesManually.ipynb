{
 "cells": [
  {
   "cell_type": "code",
   "execution_count": 1,
   "metadata": {},
   "outputs": [
    {
     "name": "stdout",
     "output_type": "stream",
     "text": [
      "ln: failed to create symbolic link '/tmp/.s.PGSQL.5432': File exists\r\n"
     ]
    }
   ],
   "source": [
    "import pandas as pd\n",
    "import psycopg2\n",
    "from psycopg2 import sql\n",
    "try:\n",
    "    get_ipython().system('ln -s /var/run/postgresql/.s.PGSQL.5432 /tmp/.s.PGSQL.5432')\n",
    "except:\n",
    "    pass\n"
   ]
  },
  {
   "cell_type": "code",
   "execution_count": 2,
   "metadata": {
    "collapsed": true
   },
   "outputs": [],
   "source": [
    "wdir = '../../datamyneDelivery20170728/02_dataCreated/entitiesToInclude/renamed/'"
   ]
  },
  {
   "cell_type": "code",
   "execution_count": 8,
   "metadata": {
    "collapsed": true
   },
   "outputs": [],
   "source": [
    "conn = psycopg2.connect(database=\"datamyneUSexports\", user=\"ram22\")"
   ]
  },
  {
   "cell_type": "code",
   "execution_count": 4,
   "metadata": {
    "collapsed": true
   },
   "outputs": [],
   "source": [
    "def create_table(conn, data):\n",
    "    cur = conn.cursor()\n",
    "    cur.execute(\"DROP TABLE IF EXISTS temp;\")\n",
    "    cur.execute(\"CREATE TABLE temp (name varchar, time integer, isin varchar);\")\n",
    "    file_object = open(data, 'r')\n",
    "    op = \"COPY temp FROM STDIN WITH CSV\"\n",
    "    cur.copy_expert(sql=op, file=file_object)\n",
    "    cur.execute(\"DELETE FROM temp WHERE isin != 'x' OR isin IS NULL;\")\n",
    "    conn.commit()\n",
    "    file_object.close()\n",
    "    cur.close()\n"
   ]
  },
  {
   "cell_type": "code",
   "execution_count": 5,
   "metadata": {
    "collapsed": true
   },
   "outputs": [],
   "source": [
    "dunsSource = pd.read_csv('../../datamyneDelivery20170728/02_dataCreated/listOfCompaniesUsedv2.csv')\n",
    "dunsSource = dunsSource[dunsSource['hasfile'] == 1]"
   ]
  },
  {
   "cell_type": "code",
   "execution_count": 9,
   "metadata": {},
   "outputs": [],
   "source": [
    "compList = [x for x in zip(dunsSource['duns_nbr_consignee'], dunsSource['nickname'])]\n",
    "\n",
    "for compData in compList:\n",
    "    create_table(conn, wdir + compData[1] +'.csv')\n",
    "    query = \"UPDATE billoflading_all as bill SET duns_nbr_shipper = '\" + str(compData[0]) + \\\n",
    "    \"' WHERE EXISTS (SELECT 1 FROM temp as names WHERE UPPER(bill.shipper_declared) = UPPER(names.name));\"\n",
    "    #\"' WHERE (duns_nbr_consignee IS NULL OR duns_nbr_consignee = '') AND EXISTS (SELECT 1 FROM temp as names WHERE UPPER(bill.consignee_declared) = UPPER(names.name));\"\n",
    "    \n",
    "    cur = conn.cursor()\n",
    "    \n",
    "    cur.execute(query)\n",
    "    cur.execute(\"DROP TABLE temp;\")\n",
    "    conn.commit()\n",
    "    cur.close()\n",
    "    "
   ]
  },
  {
   "cell_type": "code",
   "execution_count": 10,
   "metadata": {
    "collapsed": true
   },
   "outputs": [],
   "source": [
    "conn.close()"
   ]
  },
  {
   "cell_type": "code",
   "execution_count": null,
   "metadata": {
    "collapsed": true
   },
   "outputs": [],
   "source": []
  }
 ],
 "metadata": {
  "kernelspec": {
   "display_name": "Python 3",
   "language": "python",
   "name": "python3"
  },
  "language_info": {
   "codemirror_mode": {
    "name": "ipython",
    "version": 3
   },
   "file_extension": ".py",
   "mimetype": "text/x-python",
   "name": "python",
   "nbconvert_exporter": "python",
   "pygments_lexer": "ipython3",
   "version": "3.6.0"
  }
 },
 "nbformat": 4,
 "nbformat_minor": 2
}
